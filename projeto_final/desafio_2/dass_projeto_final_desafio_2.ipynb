{
  "nbformat": 4,
  "nbformat_minor": 0,
  "metadata": {
    "colab": {
      "provenance": [],
      "authorship_tag": "ABX9TyMgtYgjKdrCNTkUXv0mtV2d",
      "include_colab_link": true
    },
    "kernelspec": {
      "name": "python3",
      "display_name": "Python 3"
    },
    "language_info": {
      "name": "python"
    }
  },
  "cells": [
    {
      "cell_type": "markdown",
      "metadata": {
        "id": "view-in-github",
        "colab_type": "text"
      },
      "source": [
        "<a href=\"https://colab.research.google.com/github/davidsonsantana89/dass--CESAR_SCHOOL-Topicos_Contemporaneos/blob/main/projeto_final/desafio_2/dass_projeto_final_desafio_2.ipynb\" target=\"_parent\"><img src=\"https://colab.research.google.com/assets/colab-badge.svg\" alt=\"Open In Colab\"/></a>"
      ]
    },
    {
      "cell_type": "markdown",
      "source": [
        "DAVIDSON ALVES SANTOS DE SANTANA\n",
        "\n",
        "dass@cesar.school"
      ],
      "metadata": {
        "id": "RK1RE-ZWaBbQ"
      }
    },
    {
      "cell_type": "code",
      "execution_count": null,
      "metadata": {
        "colab": {
          "base_uri": "https://localhost:8080/"
        },
        "id": "cQtcrdvcMB2b",
        "outputId": "e2397222-d377-4112-dbd3-f6381d55ce4c"
      },
      "outputs": [
        {
          "output_type": "stream",
          "name": "stdout",
          "text": [
            "Collecting langchain_community\n",
            "  Downloading langchain_community-0.2.15-py3-none-any.whl.metadata (2.7 kB)\n",
            "Collecting langchain_openai\n",
            "  Downloading langchain_openai-0.1.23-py3-none-any.whl.metadata (2.6 kB)\n",
            "Collecting langchain_text_splitters\n",
            "  Downloading langchain_text_splitters-0.2.2-py3-none-any.whl.metadata (2.1 kB)\n",
            "Collecting faiss-gpu\n",
            "  Downloading faiss_gpu-1.7.2-cp310-cp310-manylinux_2_17_x86_64.manylinux2014_x86_64.whl.metadata (1.4 kB)\n",
            "Requirement already satisfied: PyYAML>=5.3 in /usr/local/lib/python3.10/dist-packages (from langchain_community) (6.0.2)\n",
            "Requirement already satisfied: SQLAlchemy<3,>=1.4 in /usr/local/lib/python3.10/dist-packages (from langchain_community) (2.0.32)\n",
            "Requirement already satisfied: aiohttp<4.0.0,>=3.8.3 in /usr/local/lib/python3.10/dist-packages (from langchain_community) (3.10.5)\n",
            "Collecting dataclasses-json<0.7,>=0.5.7 (from langchain_community)\n",
            "  Downloading dataclasses_json-0.6.7-py3-none-any.whl.metadata (25 kB)\n",
            "Collecting langchain<0.3.0,>=0.2.15 (from langchain_community)\n",
            "  Downloading langchain-0.2.15-py3-none-any.whl.metadata (7.1 kB)\n",
            "Collecting langchain-core<0.3.0,>=0.2.37 (from langchain_community)\n",
            "  Downloading langchain_core-0.2.37-py3-none-any.whl.metadata (6.2 kB)\n",
            "Collecting langsmith<0.2.0,>=0.1.0 (from langchain_community)\n",
            "  Downloading langsmith-0.1.108-py3-none-any.whl.metadata (13 kB)\n",
            "Requirement already satisfied: numpy<2,>=1 in /usr/local/lib/python3.10/dist-packages (from langchain_community) (1.26.4)\n",
            "Requirement already satisfied: requests<3,>=2 in /usr/local/lib/python3.10/dist-packages (from langchain_community) (2.32.3)\n",
            "Collecting tenacity!=8.4.0,<9.0.0,>=8.1.0 (from langchain_community)\n",
            "  Downloading tenacity-8.5.0-py3-none-any.whl.metadata (1.2 kB)\n",
            "Collecting openai<2.0.0,>=1.40.0 (from langchain_openai)\n",
            "  Downloading openai-1.43.0-py3-none-any.whl.metadata (22 kB)\n",
            "Collecting tiktoken<1,>=0.7 (from langchain_openai)\n",
            "  Downloading tiktoken-0.7.0-cp310-cp310-manylinux_2_17_x86_64.manylinux2014_x86_64.whl.metadata (6.6 kB)\n",
            "Requirement already satisfied: aiohappyeyeballs>=2.3.0 in /usr/local/lib/python3.10/dist-packages (from aiohttp<4.0.0,>=3.8.3->langchain_community) (2.4.0)\n",
            "Requirement already satisfied: aiosignal>=1.1.2 in /usr/local/lib/python3.10/dist-packages (from aiohttp<4.0.0,>=3.8.3->langchain_community) (1.3.1)\n",
            "Requirement already satisfied: attrs>=17.3.0 in /usr/local/lib/python3.10/dist-packages (from aiohttp<4.0.0,>=3.8.3->langchain_community) (24.2.0)\n",
            "Requirement already satisfied: frozenlist>=1.1.1 in /usr/local/lib/python3.10/dist-packages (from aiohttp<4.0.0,>=3.8.3->langchain_community) (1.4.1)\n",
            "Requirement already satisfied: multidict<7.0,>=4.5 in /usr/local/lib/python3.10/dist-packages (from aiohttp<4.0.0,>=3.8.3->langchain_community) (6.0.5)\n",
            "Requirement already satisfied: yarl<2.0,>=1.0 in /usr/local/lib/python3.10/dist-packages (from aiohttp<4.0.0,>=3.8.3->langchain_community) (1.9.4)\n",
            "Requirement already satisfied: async-timeout<5.0,>=4.0 in /usr/local/lib/python3.10/dist-packages (from aiohttp<4.0.0,>=3.8.3->langchain_community) (4.0.3)\n",
            "Collecting marshmallow<4.0.0,>=3.18.0 (from dataclasses-json<0.7,>=0.5.7->langchain_community)\n",
            "  Downloading marshmallow-3.22.0-py3-none-any.whl.metadata (7.2 kB)\n",
            "Collecting typing-inspect<1,>=0.4.0 (from dataclasses-json<0.7,>=0.5.7->langchain_community)\n",
            "  Downloading typing_inspect-0.9.0-py3-none-any.whl.metadata (1.5 kB)\n",
            "Requirement already satisfied: pydantic<3,>=1 in /usr/local/lib/python3.10/dist-packages (from langchain<0.3.0,>=0.2.15->langchain_community) (2.8.2)\n",
            "Collecting jsonpatch<2.0,>=1.33 (from langchain-core<0.3.0,>=0.2.37->langchain_community)\n",
            "  Downloading jsonpatch-1.33-py2.py3-none-any.whl.metadata (3.0 kB)\n",
            "Requirement already satisfied: packaging<25,>=23.2 in /usr/local/lib/python3.10/dist-packages (from langchain-core<0.3.0,>=0.2.37->langchain_community) (24.1)\n",
            "Requirement already satisfied: typing-extensions>=4.7 in /usr/local/lib/python3.10/dist-packages (from langchain-core<0.3.0,>=0.2.37->langchain_community) (4.12.2)\n",
            "Collecting httpx<1,>=0.23.0 (from langsmith<0.2.0,>=0.1.0->langchain_community)\n",
            "  Downloading httpx-0.27.2-py3-none-any.whl.metadata (7.1 kB)\n",
            "Collecting orjson<4.0.0,>=3.9.14 (from langsmith<0.2.0,>=0.1.0->langchain_community)\n",
            "  Downloading orjson-3.10.7-cp310-cp310-manylinux_2_17_x86_64.manylinux2014_x86_64.whl.metadata (50 kB)\n",
            "\u001b[2K     \u001b[90m━━━━━━━━━━━━━━━━━━━━━━━━━━━━━━━━━━━━━━━━\u001b[0m \u001b[32m50.4/50.4 kB\u001b[0m \u001b[31m1.3 MB/s\u001b[0m eta \u001b[36m0:00:00\u001b[0m\n",
            "\u001b[?25hRequirement already satisfied: anyio<5,>=3.5.0 in /usr/local/lib/python3.10/dist-packages (from openai<2.0.0,>=1.40.0->langchain_openai) (3.7.1)\n",
            "Requirement already satisfied: distro<2,>=1.7.0 in /usr/lib/python3/dist-packages (from openai<2.0.0,>=1.40.0->langchain_openai) (1.7.0)\n",
            "Collecting jiter<1,>=0.4.0 (from openai<2.0.0,>=1.40.0->langchain_openai)\n",
            "  Downloading jiter-0.5.0-cp310-cp310-manylinux_2_17_x86_64.manylinux2014_x86_64.whl.metadata (3.6 kB)\n",
            "Requirement already satisfied: sniffio in /usr/local/lib/python3.10/dist-packages (from openai<2.0.0,>=1.40.0->langchain_openai) (1.3.1)\n",
            "Requirement already satisfied: tqdm>4 in /usr/local/lib/python3.10/dist-packages (from openai<2.0.0,>=1.40.0->langchain_openai) (4.66.5)\n",
            "Requirement already satisfied: charset-normalizer<4,>=2 in /usr/local/lib/python3.10/dist-packages (from requests<3,>=2->langchain_community) (3.3.2)\n",
            "Requirement already satisfied: idna<4,>=2.5 in /usr/local/lib/python3.10/dist-packages (from requests<3,>=2->langchain_community) (3.8)\n",
            "Requirement already satisfied: urllib3<3,>=1.21.1 in /usr/local/lib/python3.10/dist-packages (from requests<3,>=2->langchain_community) (2.0.7)\n",
            "Requirement already satisfied: certifi>=2017.4.17 in /usr/local/lib/python3.10/dist-packages (from requests<3,>=2->langchain_community) (2024.7.4)\n",
            "Requirement already satisfied: greenlet!=0.4.17 in /usr/local/lib/python3.10/dist-packages (from SQLAlchemy<3,>=1.4->langchain_community) (3.0.3)\n",
            "Requirement already satisfied: regex>=2022.1.18 in /usr/local/lib/python3.10/dist-packages (from tiktoken<1,>=0.7->langchain_openai) (2024.5.15)\n",
            "Requirement already satisfied: exceptiongroup in /usr/local/lib/python3.10/dist-packages (from anyio<5,>=3.5.0->openai<2.0.0,>=1.40.0->langchain_openai) (1.2.2)\n",
            "Collecting httpcore==1.* (from httpx<1,>=0.23.0->langsmith<0.2.0,>=0.1.0->langchain_community)\n",
            "  Downloading httpcore-1.0.5-py3-none-any.whl.metadata (20 kB)\n",
            "Collecting h11<0.15,>=0.13 (from httpcore==1.*->httpx<1,>=0.23.0->langsmith<0.2.0,>=0.1.0->langchain_community)\n",
            "  Downloading h11-0.14.0-py3-none-any.whl.metadata (8.2 kB)\n",
            "Collecting jsonpointer>=1.9 (from jsonpatch<2.0,>=1.33->langchain-core<0.3.0,>=0.2.37->langchain_community)\n",
            "  Downloading jsonpointer-3.0.0-py2.py3-none-any.whl.metadata (2.3 kB)\n",
            "Requirement already satisfied: annotated-types>=0.4.0 in /usr/local/lib/python3.10/dist-packages (from pydantic<3,>=1->langchain<0.3.0,>=0.2.15->langchain_community) (0.7.0)\n",
            "Requirement already satisfied: pydantic-core==2.20.1 in /usr/local/lib/python3.10/dist-packages (from pydantic<3,>=1->langchain<0.3.0,>=0.2.15->langchain_community) (2.20.1)\n",
            "Collecting mypy-extensions>=0.3.0 (from typing-inspect<1,>=0.4.0->dataclasses-json<0.7,>=0.5.7->langchain_community)\n",
            "  Downloading mypy_extensions-1.0.0-py3-none-any.whl.metadata (1.1 kB)\n",
            "Downloading langchain_community-0.2.15-py3-none-any.whl (2.3 MB)\n",
            "\u001b[2K   \u001b[90m━━━━━━━━━━━━━━━━━━━━━━━━━━━━━━━━━━━━━━━━\u001b[0m \u001b[32m2.3/2.3 MB\u001b[0m \u001b[31m25.2 MB/s\u001b[0m eta \u001b[36m0:00:00\u001b[0m\n",
            "\u001b[?25hDownloading langchain_openai-0.1.23-py3-none-any.whl (51 kB)\n",
            "\u001b[2K   \u001b[90m━━━━━━━━━━━━━━━━━━━━━━━━━━━━━━━━━━━━━━━━\u001b[0m \u001b[32m52.0/52.0 kB\u001b[0m \u001b[31m3.6 MB/s\u001b[0m eta \u001b[36m0:00:00\u001b[0m\n",
            "\u001b[?25hDownloading langchain_text_splitters-0.2.2-py3-none-any.whl (25 kB)\n",
            "Downloading faiss_gpu-1.7.2-cp310-cp310-manylinux_2_17_x86_64.manylinux2014_x86_64.whl (85.5 MB)\n",
            "\u001b[2K   \u001b[90m━━━━━━━━━━━━━━━━━━━━━━━━━━━━━━━━━━━━━━━━\u001b[0m \u001b[32m85.5/85.5 MB\u001b[0m \u001b[31m6.8 MB/s\u001b[0m eta \u001b[36m0:00:00\u001b[0m\n",
            "\u001b[?25hDownloading dataclasses_json-0.6.7-py3-none-any.whl (28 kB)\n",
            "Downloading langchain-0.2.15-py3-none-any.whl (1.0 MB)\n",
            "\u001b[2K   \u001b[90m━━━━━━━━━━━━━━━━━━━━━━━━━━━━━━━━━━━━━━━━\u001b[0m \u001b[32m1.0/1.0 MB\u001b[0m \u001b[31m28.6 MB/s\u001b[0m eta \u001b[36m0:00:00\u001b[0m\n",
            "\u001b[?25hDownloading langchain_core-0.2.37-py3-none-any.whl (396 kB)\n",
            "\u001b[2K   \u001b[90m━━━━━━━━━━━━━━━━━━━━━━━━━━━━━━━━━━━━━━━━\u001b[0m \u001b[32m396.2/396.2 kB\u001b[0m \u001b[31m15.2 MB/s\u001b[0m eta \u001b[36m0:00:00\u001b[0m\n",
            "\u001b[?25hDownloading langsmith-0.1.108-py3-none-any.whl (150 kB)\n",
            "\u001b[2K   \u001b[90m━━━━━━━━━━━━━━━━━━━━━━━━━━━━━━━━━━━━━━━━\u001b[0m \u001b[32m150.7/150.7 kB\u001b[0m \u001b[31m11.5 MB/s\u001b[0m eta \u001b[36m0:00:00\u001b[0m\n",
            "\u001b[?25hDownloading openai-1.43.0-py3-none-any.whl (365 kB)\n",
            "\u001b[2K   \u001b[90m━━━━━━━━━━━━━━━━━━━━━━━━━━━━━━━━━━━━━━━━\u001b[0m \u001b[32m365.7/365.7 kB\u001b[0m \u001b[31m22.6 MB/s\u001b[0m eta \u001b[36m0:00:00\u001b[0m\n",
            "\u001b[?25hDownloading tenacity-8.5.0-py3-none-any.whl (28 kB)\n",
            "Downloading tiktoken-0.7.0-cp310-cp310-manylinux_2_17_x86_64.manylinux2014_x86_64.whl (1.1 MB)\n",
            "\u001b[2K   \u001b[90m━━━━━━━━━━━━━━━━━━━━━━━━━━━━━━━━━━━━━━━━\u001b[0m \u001b[32m1.1/1.1 MB\u001b[0m \u001b[31m45.1 MB/s\u001b[0m eta \u001b[36m0:00:00\u001b[0m\n",
            "\u001b[?25hDownloading httpx-0.27.2-py3-none-any.whl (76 kB)\n",
            "\u001b[2K   \u001b[90m━━━━━━━━━━━━━━━━━━━━━━━━━━━━━━━━━━━━━━━━\u001b[0m \u001b[32m76.4/76.4 kB\u001b[0m \u001b[31m6.7 MB/s\u001b[0m eta \u001b[36m0:00:00\u001b[0m\n",
            "\u001b[?25hDownloading httpcore-1.0.5-py3-none-any.whl (77 kB)\n",
            "\u001b[2K   \u001b[90m━━━━━━━━━━━━━━━━━━━━━━━━━━━━━━━━━━━━━━━━\u001b[0m \u001b[32m77.9/77.9 kB\u001b[0m \u001b[31m6.3 MB/s\u001b[0m eta \u001b[36m0:00:00\u001b[0m\n",
            "\u001b[?25hDownloading jiter-0.5.0-cp310-cp310-manylinux_2_17_x86_64.manylinux2014_x86_64.whl (318 kB)\n",
            "\u001b[2K   \u001b[90m━━━━━━━━━━━━━━━━━━━━━━━━━━━━━━━━━━━━━━━━\u001b[0m \u001b[32m318.9/318.9 kB\u001b[0m \u001b[31m20.9 MB/s\u001b[0m eta \u001b[36m0:00:00\u001b[0m\n",
            "\u001b[?25hDownloading jsonpatch-1.33-py2.py3-none-any.whl (12 kB)\n",
            "Downloading marshmallow-3.22.0-py3-none-any.whl (49 kB)\n",
            "\u001b[2K   \u001b[90m━━━━━━━━━━━━━━━━━━━━━━━━━━━━━━━━━━━━━━━━\u001b[0m \u001b[32m49.3/49.3 kB\u001b[0m \u001b[31m1.3 MB/s\u001b[0m eta \u001b[36m0:00:00\u001b[0m\n",
            "\u001b[?25hDownloading orjson-3.10.7-cp310-cp310-manylinux_2_17_x86_64.manylinux2014_x86_64.whl (141 kB)\n",
            "\u001b[2K   \u001b[90m━━━━━━━━━━━━━━━━━━━━━━━━━━━━━━━━━━━━━━━━\u001b[0m \u001b[32m141.9/141.9 kB\u001b[0m \u001b[31m10.0 MB/s\u001b[0m eta \u001b[36m0:00:00\u001b[0m\n",
            "\u001b[?25hDownloading typing_inspect-0.9.0-py3-none-any.whl (8.8 kB)\n",
            "Downloading jsonpointer-3.0.0-py2.py3-none-any.whl (7.6 kB)\n",
            "Downloading mypy_extensions-1.0.0-py3-none-any.whl (4.7 kB)\n",
            "Downloading h11-0.14.0-py3-none-any.whl (58 kB)\n",
            "\u001b[2K   \u001b[90m━━━━━━━━━━━━━━━━━━━━━━━━━━━━━━━━━━━━━━━━\u001b[0m \u001b[32m58.3/58.3 kB\u001b[0m \u001b[31m4.3 MB/s\u001b[0m eta \u001b[36m0:00:00\u001b[0m\n",
            "\u001b[?25hInstalling collected packages: faiss-gpu, tenacity, orjson, mypy-extensions, marshmallow, jsonpointer, jiter, h11, typing-inspect, tiktoken, jsonpatch, httpcore, httpx, dataclasses-json, openai, langsmith, langchain-core, langchain_text_splitters, langchain_openai, langchain, langchain_community\n",
            "  Attempting uninstall: tenacity\n",
            "    Found existing installation: tenacity 9.0.0\n",
            "    Uninstalling tenacity-9.0.0:\n",
            "      Successfully uninstalled tenacity-9.0.0\n",
            "Successfully installed dataclasses-json-0.6.7 faiss-gpu-1.7.2 h11-0.14.0 httpcore-1.0.5 httpx-0.27.2 jiter-0.5.0 jsonpatch-1.33 jsonpointer-3.0.0 langchain-0.2.15 langchain-core-0.2.37 langchain_community-0.2.15 langchain_openai-0.1.23 langchain_text_splitters-0.2.2 langsmith-0.1.108 marshmallow-3.22.0 mypy-extensions-1.0.0 openai-1.43.0 orjson-3.10.7 tenacity-8.5.0 tiktoken-0.7.0 typing-inspect-0.9.0\n"
          ]
        }
      ],
      "source": [
        "!pip install langchain_community langchain_openai langchain_text_splitters langchain_community faiss-gpu"
      ]
    },
    {
      "cell_type": "code",
      "source": [
        "import getpass\n",
        "import os\n",
        "\n",
        "os.environ[\"OPENAI_API_KEY\"] = getpass.getpass()"
      ],
      "metadata": {
        "colab": {
          "base_uri": "https://localhost:8080/"
        },
        "id": "FvzXyfx1bkfi",
        "outputId": "39831aa2-8b63-4843-e33c-0b0290f1cef6"
      },
      "execution_count": null,
      "outputs": [
        {
          "name": "stdout",
          "output_type": "stream",
          "text": [
            "··········\n"
          ]
        }
      ]
    },
    {
      "cell_type": "markdown",
      "source": [
        "# BIBLIOTECAS DO PROJETO"
      ],
      "metadata": {
        "id": "hXHhNKuzbndr"
      }
    },
    {
      "cell_type": "code",
      "source": [
        "from langchain_community.document_loaders import TextLoader\n",
        "from langchain_text_splitters import RecursiveCharacterTextSplitter\n",
        "from langchain_community.vectorstores import FAISS\n",
        "from langchain_openai import OpenAIEmbeddings\n",
        "from langchain_core.prompts import ChatPromptTemplate\n",
        "from langchain_openai import ChatOpenAI\n",
        "from langchain_core.output_parsers import StrOutputParser\n",
        "from langchain_core.runnables import RunnablePassthrough"
      ],
      "metadata": {
        "id": "eZpr69YZbqWZ"
      },
      "execution_count": null,
      "outputs": []
    },
    {
      "cell_type": "markdown",
      "source": [
        "# ESCOLHA DO DOCUMENTO"
      ],
      "metadata": {
        "id": "uvwRtgOEaxjF"
      }
    },
    {
      "cell_type": "markdown",
      "source": [
        "### OBTENDO OS DADOS"
      ],
      "metadata": {
        "id": "us2NTf6NdKgW"
      }
    },
    {
      "cell_type": "code",
      "source": [
        "!mkdir data\n",
        "!wget https://raw.githubusercontent.com/davidsonsantana89/dass--CESAR_SCHOOL-Topicos_Contemporaneos/main/arquivos_de_texto/DECRETO%20N%C2%BA%2048.477%20--%2026_12_2019%20--%20regimento%20interno%20escolas%20pe.txt -O data/regimento_interno_escolas_publ_pe.txt"
      ],
      "metadata": {
        "colab": {
          "base_uri": "https://localhost:8080/"
        },
        "id": "gkqqTOsHcsoS",
        "outputId": "fc714429-65cc-442e-9287-72174524283c"
      },
      "execution_count": null,
      "outputs": [
        {
          "output_type": "stream",
          "name": "stdout",
          "text": [
            "mkdir: cannot create directory ‘data’: File exists\n",
            "--2024-08-31 22:00:30--  https://raw.githubusercontent.com/davidsonsantana89/dass--CESAR_SCHOOL-Topicos_Contemporaneos/main/arquivos_de_texto/DECRETO%20N%C2%BA%2048.477%20--%2026_12_2019%20--%20regimento%20interno%20escolas%20pe.txt\n",
            "Resolving raw.githubusercontent.com (raw.githubusercontent.com)... 185.199.108.133, 185.199.109.133, 185.199.110.133, ...\n",
            "Connecting to raw.githubusercontent.com (raw.githubusercontent.com)|185.199.108.133|:443... connected.\n",
            "HTTP request sent, awaiting response... 200 OK\n",
            "Length: 96565 (94K) [text/plain]\n",
            "Saving to: ‘data/regimento_interno_escolas_publ_pe.txt’\n",
            "\n",
            "data/regimento_inte 100%[===================>]  94.30K  --.-KB/s    in 0.03s   \n",
            "\n",
            "2024-08-31 22:00:30 (2.81 MB/s) - ‘data/regimento_interno_escolas_publ_pe.txt’ saved [96565/96565]\n",
            "\n"
          ]
        }
      ]
    },
    {
      "cell_type": "markdown",
      "source": [
        "### CARREGAMENTO DOS DADOS OBTIDOS"
      ],
      "metadata": {
        "id": "8T-iQP64dZaT"
      }
    },
    {
      "cell_type": "code",
      "source": [
        "caminho_arquivo = \"data/regimento_interno_escolas_publ_pe.txt\"\n",
        "\n",
        "loader = TextLoader(caminho_arquivo)\n",
        "docs = loader.load()\n",
        "\n",
        "print(docs[0].page_content[:1000])"
      ],
      "metadata": {
        "colab": {
          "base_uri": "https://localhost:8080/"
        },
        "id": "6z8Fj3pwdHr-",
        "outputId": "106bcc51-1cfc-4b29-a59c-b47d8dec8575"
      },
      "execution_count": null,
      "outputs": [
        {
          "output_type": "stream",
          "name": "stdout",
          "text": [
            "DECRETO Nº 48.477, DE 26 DE DEZEMBRO DE 2019.\n",
            "Institui o Regimento Escolar Unificado Substitutivo das Unidades Escolares da Rede Estadual de Ensino do Estado de Pernambuco.\n",
            "\n",
            "O GOVERNADOR DO ESTADO, no uso das atribuições que lhe são conferidas pelo inciso IV do art. 37 da Constituição Estadual, e, tendo em vista a proposição do Secretário de Educação e Esportes,\n",
            "\n",
            "CONSIDERANDO a necessidade de se conferir uniformidade aos atos administrativos e educacionais praticados no âmbito das Unidades Escolares da Rede Estadual de Ensino,\n",
            "\n",
            "DECRETA:\n",
            "\n",
            "Art.1º Este Decreto instituí o Regimento Escolar Unificado Substitutivo para as Unidades Escolares pertencentes à Rede Estadual de Ensino do Estado de Pernambuco, na forma do Anexo Único.\n",
            "\n",
            "§ 1º O Regimento a que se refere o caput ficará disponível aos membros da comunidade escolar e órgãos representantes da sociedade organizada.\n",
            "\n",
            "\n",
            "I\t- digitalmente, no site oficial da Secretaria de Educação e Esportes do Estado, e\n",
            " \n",
            "\n",
            "II\t– em meio físico, em cada unidade\n"
          ]
        }
      ]
    },
    {
      "cell_type": "markdown",
      "source": [
        "# SPLITTING DO DOCUMENTO"
      ],
      "metadata": {
        "id": "lW-YgiRda2LS"
      }
    },
    {
      "cell_type": "code",
      "source": [
        "text_splitter = RecursiveCharacterTextSplitter(\n",
        "    chunk_size=1000, chunk_overlap=200, add_start_index=True\n",
        ")\n",
        "all_splits = text_splitter.split_documents(docs)\n",
        "\n",
        "len(all_splits)"
      ],
      "metadata": {
        "colab": {
          "base_uri": "https://localhost:8080/"
        },
        "id": "rEm7vOUCdulg",
        "outputId": "fe186fca-1f29-4ff7-8616-775dbb6a0218"
      },
      "execution_count": null,
      "outputs": [
        {
          "output_type": "execute_result",
          "data": {
            "text/plain": [
              "116"
            ]
          },
          "metadata": {},
          "execution_count": 8
        }
      ]
    },
    {
      "cell_type": "code",
      "source": [
        "print(all_splits[30].page_content)"
      ],
      "metadata": {
        "colab": {
          "base_uri": "https://localhost:8080/"
        },
        "id": "aFu4t9ujd9FN",
        "outputId": "74598850-79a3-4cd8-8c9b-14e357141c36"
      },
      "execution_count": null,
      "outputs": [
        {
          "output_type": "stream",
          "name": "stdout",
          "text": [
            "II\t- o 2º Ciclo compreendendo um período de 400 (quatrocentos) dias letivos e 1.600 (mil e seiscentas) horas, com duração de dois anos letivos correspondentes aos 4º e 5º anos iniciais do Ensino Fundamental.\n",
            "\n",
            "Art. 19. O Calendário Escolar será organizado pela Equipe Gestora de cada Unidade Escolar, apreciado e aprovado pela Gerência Regional Educação, seguindo Instrução Normativa específica publicada no Diário Oficial do Estado, CONSIDERANDO o Projeto Político-Pedagógico/a Proposta Pedagógica, assegurando os 200 (duzentos) dias letivos e as 800(oitocentas) horas anuais mínimas estabelecidas pela Lei Federal nº 9.394/1996.\n",
            "\n",
            "Art. 20. O Calendário Escolar atenderá aos seguintes critérios: I - período de matrícula;\n",
            " \n",
            "\n",
            "II\t- início e término do ano letivo;\n",
            "\n",
            "III\t- divisão do ano letivo em períodos de estudos, com distribuição dos dias previstos para vivenciá-los;\n",
            "\n",
            "IV\t- datas de formações continuadas, reuniões e planejamentos;\n",
            "\n",
            "V\t- feriados previstos e datas comemorativas;\n"
          ]
        }
      ]
    },
    {
      "cell_type": "markdown",
      "source": [
        "# CRIAÇÃO DE VECTOR STORE"
      ],
      "metadata": {
        "id": "RZNzZ6bAa5GJ"
      }
    },
    {
      "cell_type": "code",
      "source": [
        "vectorstore = FAISS.from_documents(all_splits, OpenAIEmbeddings())"
      ],
      "metadata": {
        "id": "vknBayGBeL61"
      },
      "execution_count": null,
      "outputs": []
    },
    {
      "cell_type": "code",
      "source": [
        "retriever = vectorstore.as_retriever(search_type=\"similarity\", search_kwargs={\"k\": 6})\n",
        "\n",
        "retrieved_docs = retriever.invoke(\"Quais as atribuições do gestor escolar?\")\n",
        "\n",
        "len(retrieved_docs)"
      ],
      "metadata": {
        "colab": {
          "base_uri": "https://localhost:8080/"
        },
        "id": "iLow3i2Jed7n",
        "outputId": "ef1d3695-88c9-4acf-b349-f19715c11272"
      },
      "execution_count": null,
      "outputs": [
        {
          "output_type": "execute_result",
          "data": {
            "text/plain": [
              "6"
            ]
          },
          "metadata": {},
          "execution_count": 13
        }
      ]
    },
    {
      "cell_type": "code",
      "source": [
        "print(retrieved_docs[1].page_content)"
      ],
      "metadata": {
        "colab": {
          "base_uri": "https://localhost:8080/"
        },
        "id": "ikvbejQ7eooo",
        "outputId": "2f591530-6d83-4026-c5c5-878540de331a"
      },
      "execution_count": null,
      "outputs": [
        {
          "output_type": "stream",
          "name": "stdout",
          "text": [
            "Art. 81. Cada Unidade Escolar deverá ter sua equipe gestora constituída de gestor, gestor adjunto, analista em gestão educacional e conselho escolar.\n",
            "\n",
            "Parágrafo único. O Conselho Escolar, de que trata o caput, segmento constitutivo da equipe gestora, é parte integrante dos órgãos colegiados de cada Unidade Escolar, cujas características e atribuições constam descritas neste Regimento Escolar Unificado.\n",
            "\n",
            "Art. 82. O cargo de gestor, gestor adjunto é exercido por profissionais legalmente habilitados, que tenham participado do processo seletivo e eletivo, com Ato de Nomeação publicado no Diário Oficial do Estado de Pernambuco.\n",
            "\n",
            "Subseção I\n",
            "Das Atribuições do Gestor\n",
            "\n",
            "Art. 83. O Gestor de cada Unidade Escolar deverá assumir as seguintes atribuições:\n",
            "\n",
            "I\t- representar oficialmente a Unidade Escolar, tornando-a aberta aos interesses da comunidade, estimulando o envolvimento dos(as) estudantes, pais, professores e demais membros da comunidade escolar;\n"
          ]
        }
      ]
    },
    {
      "cell_type": "markdown",
      "source": [
        "# RETRIEVAL"
      ],
      "metadata": {
        "id": "pnKpuILWa8b9"
      }
    },
    {
      "cell_type": "code",
      "source": [
        "system_template = \"\"\"Você é um assistente para tarefas de perguntas e respostas. Use os seguintes trechos de contexto recuperados para responder à pergunta. Se você não souber a resposta, apenas diga que não sabe. Use no máximo duas frases e mantenha a resposta concisa e fale apenas o necessário.\n",
        "\n",
        "Pergunta: {question}\n",
        "\n",
        "Contexto: {context}\n",
        "\n",
        "Resposta:\n",
        "\"\"\"\n",
        "\n",
        "prompt_template = ChatPromptTemplate.from_template(system_template)"
      ],
      "metadata": {
        "id": "-JjSYqgQe2Lt"
      },
      "execution_count": null,
      "outputs": []
    },
    {
      "cell_type": "code",
      "source": [
        "example_messages = prompt_template.invoke({\n",
        "    \"context\": \"algum contexto\",\n",
        "    \"question\": \"alguma pergunta\"\n",
        "})\n",
        "\n",
        "print(example_messages.to_messages())"
      ],
      "metadata": {
        "colab": {
          "base_uri": "https://localhost:8080/"
        },
        "id": "8rWRAGvne6TA",
        "outputId": "b74fa782-4c55-4492-f4a6-d75c4f7b367d"
      },
      "execution_count": null,
      "outputs": [
        {
          "output_type": "stream",
          "name": "stdout",
          "text": [
            "[HumanMessage(content='Você é um assistente para tarefas de perguntas e respostas. Use os seguintes trechos de contexto recuperados para responder à pergunta. Se você não souber a resposta, apenas diga que não sabe. Use no máximo duas frases e mantenha a resposta concisa e fale apenas o necessário.\\n\\nPergunta: alguma pergunta\\n\\nContexto: algum contexto\\n\\nResposta:\\n')]\n"
          ]
        }
      ]
    },
    {
      "cell_type": "markdown",
      "source": [
        "# GERAÇÃO DE RESPOSTAS"
      ],
      "metadata": {
        "id": "1AmWyQgCa-78"
      }
    },
    {
      "cell_type": "code",
      "source": [
        "llm = ChatOpenAI(model=\"gpt-4o-mini\")"
      ],
      "metadata": {
        "id": "LpTYfxs8fBgR"
      },
      "execution_count": null,
      "outputs": []
    },
    {
      "cell_type": "code",
      "source": [
        "from langchain_core.output_parsers import StrOutputParser\n",
        "from langchain_core.runnables import RunnablePassthrough\n",
        "\n",
        "def format_docs(docs):\n",
        "    return \"\\n\\n\".join(doc.page_content for doc in docs)\n",
        "\n",
        "rag_chain = (\n",
        "    {\"context\": retriever | format_docs, \"question\": RunnablePassthrough()}\n",
        "    | prompt_template\n",
        "    | llm\n",
        "    | StrOutputParser()\n",
        ")"
      ],
      "metadata": {
        "id": "6SmR1mvPfFTU"
      },
      "execution_count": null,
      "outputs": []
    },
    {
      "cell_type": "code",
      "source": [
        "prompt_user = [\"Quem são e quantos são os membros da equipe gestora escolar?\",\n",
        "               \"Quais as atribuições do gestor escolar?\",\n",
        "               \"Quais as atribuições do gestor adjunto?\",\n",
        "               \"Quais as atribuições do secretário escolar?\",\n",
        "               \"Quais as atribuições do educador de apoio?\",\n",
        "               \"O que é o conselho escolar?\",\n",
        "               \"O que é o conselho de classe?\",\n",
        "               \"O que é UEX?\",\n",
        "               \"Quais os direitos dos estudantes?\",\n",
        "               \"Quais são as disciplinas da base comum?\"\n",
        "]\n",
        "\n",
        "for question in prompt_user:\n",
        "    print(f\"{question}\\n{rag_chain.invoke(question)}\")\n",
        "    print(\"\\n\")\n",
        "\n",
        "\n",
        "# for chunk in rag_chain.stream(\"Quais as atribuições do gestor escolar?\"):\n",
        "#     print(chunk, end=\"\", flush=True)"
      ],
      "metadata": {
        "colab": {
          "base_uri": "https://localhost:8080/"
        },
        "id": "krtxU4skfJYx",
        "outputId": "59adc7ec-2cb2-4b20-8ff0-2982c5424563"
      },
      "execution_count": null,
      "outputs": [
        {
          "output_type": "stream",
          "name": "stdout",
          "text": [
            "Quem são e quantos são os membros da equipe gestora escolar?\n",
            "A equipe gestora escolar é composta por um gestor, um gestor adjunto, um analista em gestão educacional e um conselho escolar. Portanto, são quatro membros principais, além dos representantes do conselho escolar.\n",
            "\n",
            "\n",
            "Quais as atribuições do gestor escolar?\n",
            "As atribuições do gestor escolar incluem representar oficialmente a Unidade Escolar, estimular o envolvimento da comunidade escolar, e prestar contas das ações realizadas. Além disso, ele deve garantir a efetividade dos objetivos educacionais e supervisionar o trabalho do corpo docente e discente.\n",
            "\n",
            "\n",
            "Quais as atribuições do gestor adjunto?\n",
            "O gestor adjunto tem como atribuições garantir a efetividade dos objetivos educacionais, supervisionar o trabalho do corpo docente e discente, representar a Unidade Escolar e garantir a execução do planejamento pedagógico. Além disso, deve analisar o processo pedagógico e conduzir ações técnico-pedagógicas, auxiliando o Gestor em suas atividades.\n",
            "\n",
            "\n",
            "Quais as atribuições do secretário escolar?\n",
            "As atribuições do secretário escolar incluem a organização e conservação de documentos, a manutenção da escrituração dos livros de registro e a comunicação com a comunidade escolar. Além disso, ele deve planejar e avaliar as atividades da secretaria, garantindo a execução adequada das funções administrativas.\n",
            "\n",
            "\n",
            "Quais as atribuições do educador de apoio?\n",
            "As atribuições do Educador de Apoio incluem coordenar o planejamento e a avaliação do projeto político-pedagógico, acompanhar as ações pedagógicas e promover a formação continuada dos docentes. Além disso, ele deve apoiar as famílias em relação ao desempenho escolar dos estudantes e garantir a efetivação do currículo escolar.\n",
            "\n",
            "\n",
            "O que é o conselho escolar?\n",
            "O conselho escolar é um órgão consultivo e deliberativo que atua em regime de cogestão participativa junto à equipe de gestão da Unidade Escolar, visando garantir a gestão democrática e a qualidade da educação. Ele é composto por membros como o gestor escolar, professores, representantes dos pais, estudantes e outros integrantes da comunidade.\n",
            "\n",
            "\n",
            "O que é o conselho de classe?\n",
            "O Conselho de Classe é um órgão colegiado de natureza consultiva, avaliativa e deliberativa, que atua nas Unidades Escolares para discutir e refletir sobre o processo educativo. Ele é composto por professores, equipe técnica, gestão e pode incluir representantes de pais e estudantes.\n",
            "\n",
            "\n",
            "O que é UEX?\n",
            "A Unidade Executora (UEx) é uma associação civil, não governamental e sem fins lucrativos, que colabora com o Conselho Escolar para a manutenção das Unidades Escolares. Ela deve ser formada por todos os segmentos da comunidade escolar e regida por um estatuto próprio.\n",
            "\n",
            "\n",
            "Quais os direitos dos estudantes?\n",
            "Os direitos dos estudantes incluem ser respeitados em sua diversidade, ter acesso a espaços adequados e limpos, ser avaliado continuamente, e dispor de professores capacitados. Além disso, têm o direito de solicitar transferências, ter acompanhamento pedagógico e proteção contra situações de violência e bullying.\n",
            "\n",
            "\n",
            "Quais são as disciplinas da base comum?\n",
            "As disciplinas da base comum incluem o estudo da língua portuguesa, matemática, conhecimento do mundo físico e natural, realidade social e política, ensino da arte, língua inglesa e educação física.\n",
            "\n",
            "\n"
          ]
        }
      ]
    }
  ]
}