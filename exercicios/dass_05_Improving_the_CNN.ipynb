{
  "cells": [
    {
      "cell_type": "markdown",
      "metadata": {
        "id": "view-in-github",
        "colab_type": "text"
      },
      "source": [
        "<a href=\"https://colab.research.google.com/github/davidsonsantana89/dass--CESAR_SCHOOL-Topicos_Contemporaneos/blob/main/exercicios/dass_05_Improving_the_CNN.ipynb\" target=\"_parent\"><img src=\"https://colab.research.google.com/assets/colab-badge.svg\" alt=\"Open In Colab\"/></a>"
      ]
    },
    {
      "cell_type": "markdown",
      "source": [
        "DAVIDSON ALVES SANTOS DE SANTANA\n",
        "\n",
        "dass@cesar.school"
      ],
      "metadata": {
        "id": "jlDrS5P8X2Dc"
      }
    },
    {
      "cell_type": "code",
      "execution_count": 1,
      "metadata": {
        "id": "CJgq7U16IV4V"
      },
      "outputs": [],
      "source": [
        "# Importando as bibliotecas necessárias\n",
        "import torch\n",
        "import torch.nn as nn\n",
        "import torch.optim as optim\n",
        "import torch.nn.functional as F\n",
        "from torch.utils.data import Dataset, DataLoader, Subset\n",
        "import torchvision\n",
        "import torchvision.transforms as transforms\n",
        "import matplotlib.pyplot as plt\n",
        "import numpy as np\n",
        "import pandas as pd\n",
        "from tqdm import tqdm"
      ]
    },
    {
      "cell_type": "code",
      "execution_count": 2,
      "metadata": {
        "id": "VOSh0RjBIV4c",
        "colab": {
          "base_uri": "https://localhost:8080/"
        },
        "outputId": "74bf25c0-acbd-4b4c-aa45-31d6d793f101"
      },
      "outputs": [
        {
          "output_type": "stream",
          "name": "stdout",
          "text": [
            "--2024-08-26 23:58:58--  https://pjreddie.com/media/files/mnist_train.csv\n",
            "Resolving pjreddie.com (pjreddie.com)... 162.0.215.52\n",
            "Connecting to pjreddie.com (pjreddie.com)|162.0.215.52|:443... connected.\n",
            "HTTP request sent, awaiting response... 200 OK\n",
            "Length: 109575994 (104M) [text/csv]\n",
            "Saving to: ‘data/mnist_train.csv’\n",
            "\n",
            "mnist_train.csv     100%[===================>] 104.50M  32.2MB/s    in 3.8s    \n",
            "\n",
            "2024-08-26 23:59:02 (27.8 MB/s) - ‘data/mnist_train.csv’ saved [109575994/109575994]\n",
            "\n"
          ]
        }
      ],
      "source": [
        "# Download do dataset MNIST into data dir\n",
        "! wget https://pjreddie.com/media/files/mnist_train.csv -P data"
      ]
    },
    {
      "cell_type": "code",
      "execution_count": 3,
      "metadata": {
        "id": "UG-L6lwaIV4d"
      },
      "outputs": [],
      "source": [
        "class MNISTDataset(Dataset):\n",
        "    def __init__(self, csv_file, transform=None):\n",
        "        self.data = pd.read_csv(csv_file, header=None)\n",
        "        self.transform = transform\n",
        "\n",
        "    def __len__(self):\n",
        "        return len(self.data)\n",
        "\n",
        "    def __getitem__(self, idx):\n",
        "        # A primeira coluna é o rótulo\n",
        "        label = self.data.iloc[idx, 0]\n",
        "        # As demais colunas são os pixels da imagem\n",
        "        image = self.data.iloc[idx, 1:].values.astype('uint8').reshape(28, 28)\n",
        "\n",
        "        if self.transform:\n",
        "            image = self.transform(image)\n",
        "\n",
        "        return image, label"
      ]
    },
    {
      "cell_type": "code",
      "execution_count": 4,
      "metadata": {
        "id": "gWEO__6vIV4f"
      },
      "outputs": [],
      "source": [
        "# Transformação para converter a imagem para tensor\n",
        "transform = transforms.Compose([\n",
        "    transforms.ToTensor(),      # Convertendo a imagem PIL para tensor\n",
        "    transforms.Normalize((0.5,), (0.5,))  # Normalizando a imagem\n",
        "])\n",
        "\n",
        "# Criando o dataset\n",
        "mnist_dataset = MNISTDataset(\"./data/mnist_train.csv\", transform=transform)\n",
        "\n",
        "# Transformação para converter a imagem para tensor\n",
        "transform = transforms.Compose([\n",
        "    transforms.ToPILImage(),    # Convertendo o array numpy para imagem PIL\n",
        "    transforms.ToTensor(),      # Convertendo a imagem PIL para tensor\n",
        "    transforms.Normalize((0.5,), (0.5,))  # Normalizando a imagem\n",
        "])\n",
        "\n",
        "# Criando o dataset\n",
        "mnist_dataset = MNISTDataset(\"./data/mnist_train.csv\", transform=transform)"
      ]
    },
    {
      "cell_type": "code",
      "execution_count": 5,
      "metadata": {
        "id": "hONEwwphIV4g"
      },
      "outputs": [],
      "source": [
        "# Criando índices aleatórios para os subsets de treino e teste\n",
        "np.random.seed(42)\n",
        "indices = np.arange(len(mnist_dataset))\n",
        "np.random.shuffle(indices)\n",
        "\n",
        "# Dividindo os índices em trainset e testset\n",
        "num_train = 1000\n",
        "num_val = 500\n",
        "num_test = 500\n",
        "train_indices = indices[:num_train]  # Primeiros 1.000 índices para o trainset\n",
        "val_indices = indices[num_train:num_train+num_val]  # Próximos 500 índices para o valset\n",
        "test_indices = indices[num_train+num_val:num_train+num_val+num_test]  # Mais 500 para o testset\n",
        "\n",
        "trainset = Subset(mnist_dataset, train_indices)\n",
        "valset = Subset(mnist_dataset, val_indices)\n",
        "testset = Subset(mnist_dataset, test_indices)\n",
        "\n",
        "# Criando DataLoaders para os subsets\n",
        "trainloader = DataLoader(trainset, batch_size=64, shuffle=True)\n",
        "valloader = DataLoader(valset, batch_size=64, shuffle=False)\n",
        "testloader = DataLoader(testset, batch_size=64, shuffle=False)"
      ]
    },
    {
      "cell_type": "code",
      "execution_count": 6,
      "metadata": {
        "id": "3Tl2LUTiIV4h"
      },
      "outputs": [],
      "source": [
        "def train_model(model, trainloader, valloader, criterion, optimizer, num_epochs=5):\n",
        "    history = {\n",
        "        'train_losses': [],\n",
        "        'val_losses': [],\n",
        "        'train_accuracies': [],\n",
        "        'val_accuracies': []\n",
        "    }\n",
        "\n",
        "    for epoch in range(num_epochs):\n",
        "        # Treinamento\n",
        "        model.train()\n",
        "        running_loss = 0.0\n",
        "        correct = 0\n",
        "        total = 0\n",
        "        for i, data in tqdm(enumerate(trainloader, 0), total=len(trainloader)):\n",
        "            inputs, labels = data\n",
        "\n",
        "            optimizer.zero_grad()\n",
        "\n",
        "            outputs = model(inputs)\n",
        "            loss = criterion(outputs, labels)\n",
        "            loss.backward()\n",
        "            optimizer.step()\n",
        "\n",
        "            running_loss += loss.item()\n",
        "            _, predicted = torch.max(outputs.data, 1)\n",
        "            total += labels.size(0)\n",
        "            correct += (predicted == labels).sum().item()\n",
        "\n",
        "        train_loss = running_loss / len(trainloader)\n",
        "        train_acc = 100 * correct / total\n",
        "        history['train_losses'].append(train_loss)\n",
        "        history['train_accuracies'].append(train_acc)\n",
        "        print(f'Epoch {epoch+1}, Train Loss: {train_loss:.3f}, Train Accuracy: {train_acc:.2f}%')\n",
        "\n",
        "        # Validação\n",
        "        model.eval()\n",
        "        val_running_loss = 0.0\n",
        "        correct = 0\n",
        "        total = 0\n",
        "        with torch.no_grad():\n",
        "            for data in valloader:\n",
        "                inputs, labels = data\n",
        "                outputs = model(inputs)\n",
        "                loss = criterion(outputs, labels)\n",
        "                val_running_loss += loss.item()\n",
        "                _, predicted = torch.max(outputs.data, 1)\n",
        "                total += labels.size(0)\n",
        "                correct += (predicted == labels).sum().item()\n",
        "\n",
        "        val_loss = val_running_loss / len(valloader)\n",
        "        val_acc = 100 * correct / total\n",
        "        history['val_losses'].append(val_loss)\n",
        "        history['val_accuracies'].append(val_acc)\n",
        "        print(f'Epoch {epoch+1}, Val Loss: {val_loss:.3f}, Val Accuracy: {val_acc:.2f}%')\n",
        "\n",
        "    print('Treinamento concluído')\n",
        "    return history\n",
        "\n",
        "\n",
        "def test_model(model, testloader):\n",
        "    correct = 0\n",
        "    total = 0\n",
        "    with torch.no_grad():\n",
        "        for data in testloader:\n",
        "            images, labels = data\n",
        "            outputs = model(images)\n",
        "            _, predicted = torch.max(outputs.data, 1)\n",
        "            total += labels.size(0)\n",
        "            correct += (predicted == labels).sum().item()\n",
        "\n",
        "    print(f'Acurácia da rede na base de teste: {100 * correct / total:.2f}%')"
      ]
    },
    {
      "cell_type": "code",
      "execution_count": 48,
      "metadata": {
        "id": "Ic44gJDoIV4j"
      },
      "outputs": [],
      "source": [
        "class CNN(nn.Module):\n",
        "    def __init__(self, initialize_weights=True, dropout=0.2, num_filters_1=6, num_filters_2=12, num_neurons=64):\n",
        "        super(CNN, self).__init__()\n",
        "        self.num_filters_2 = num_filters_2\n",
        "        self.conv1 = nn.Conv2d(1, num_filters_1, 5)\n",
        "        self.conv2 = nn.Conv2d(num_filters_1, num_filters_2, 5)\n",
        "        self.fc1 = nn.Linear(num_filters_2 * 4 * 4, num_neurons)\n",
        "        self.fc2 = nn.Linear(num_neurons, 10)\n",
        "        self.dropout = nn.Dropout(dropout)\n",
        "\n",
        "        if initialize_weights:\n",
        "            self._initialize_weights()\n",
        "\n",
        "    def forward(self, x):\n",
        "        # CNN\n",
        "        x = F.relu(self.conv1(x))\n",
        "        x = F.max_pool2d(x, 2, 2)\n",
        "        x = F.relu(self.conv2(x))\n",
        "        x = F.max_pool2d(x, 2, 2)\n",
        "\n",
        "        # Flatten\n",
        "        x = x.view(-1, self.num_filters_2 * 4 * 4)\n",
        "        x = self.dropout(F.relu(self.fc1(x)))\n",
        "        x = self.fc2(x)\n",
        "\n",
        "        return x\n",
        "\n",
        "    def _initialize_weights(self):\n",
        "        for m in self.modules():\n",
        "            if isinstance(m, nn.Conv2d) or isinstance(m, nn.Linear):\n",
        "                nn.init.xavier_normal_(m.weight)\n",
        "                if m.bias is not None:\n",
        "                    nn.init.constant_(m.bias, 0)"
      ]
    },
    {
      "cell_type": "code",
      "execution_count": 11,
      "metadata": {
        "id": "uu5exya2IV4k"
      },
      "outputs": [],
      "source": [
        "model = CNN(\n",
        "    initialize_weights=True,\n",
        "    dropout=0.2\n",
        ")"
      ]
    },
    {
      "cell_type": "code",
      "source": [
        "model = CNN(\n",
        "    initialize_weights=False,\n",
        "    dropout=0.2\n",
        ")"
      ],
      "metadata": {
        "id": "3jcEDmk3pDGP"
      },
      "execution_count": 9,
      "outputs": []
    },
    {
      "cell_type": "code",
      "execution_count": 10,
      "metadata": {
        "id": "DWVHI3jHIV4l"
      },
      "outputs": [],
      "source": [
        "criterion = nn.CrossEntropyLoss()\n",
        "optimizer = optim.SGD(model.parameters(), lr=0.01, momentum=0.9)"
      ]
    },
    {
      "cell_type": "code",
      "execution_count": 12,
      "metadata": {
        "id": "YN-CyVOxIV4m",
        "colab": {
          "base_uri": "https://localhost:8080/"
        },
        "outputId": "2993bc8a-c27b-4b94-9dc0-5ab61cdf4bf7"
      },
      "outputs": [
        {
          "output_type": "stream",
          "name": "stderr",
          "text": [
            "100%|██████████| 16/16 [00:01<00:00, 10.37it/s]\n"
          ]
        },
        {
          "output_type": "stream",
          "name": "stdout",
          "text": [
            "Epoch 1, Train Loss: 2.453, Train Accuracy: 9.80%\n",
            "Epoch 1, Val Loss: 2.422, Val Accuracy: 14.20%\n"
          ]
        },
        {
          "output_type": "stream",
          "name": "stderr",
          "text": [
            "100%|██████████| 16/16 [00:01<00:00, 13.17it/s]\n"
          ]
        },
        {
          "output_type": "stream",
          "name": "stdout",
          "text": [
            "Epoch 2, Train Loss: 2.442, Train Accuracy: 10.60%\n",
            "Epoch 2, Val Loss: 2.422, Val Accuracy: 14.20%\n"
          ]
        },
        {
          "output_type": "stream",
          "name": "stderr",
          "text": [
            "100%|██████████| 16/16 [00:01<00:00, 13.69it/s]\n"
          ]
        },
        {
          "output_type": "stream",
          "name": "stdout",
          "text": [
            "Epoch 3, Train Loss: 2.451, Train Accuracy: 10.60%\n",
            "Epoch 3, Val Loss: 2.422, Val Accuracy: 14.20%\n"
          ]
        },
        {
          "output_type": "stream",
          "name": "stderr",
          "text": [
            "100%|██████████| 16/16 [00:01<00:00, 12.16it/s]\n"
          ]
        },
        {
          "output_type": "stream",
          "name": "stdout",
          "text": [
            "Epoch 4, Train Loss: 2.453, Train Accuracy: 10.90%\n",
            "Epoch 4, Val Loss: 2.422, Val Accuracy: 14.20%\n"
          ]
        },
        {
          "output_type": "stream",
          "name": "stderr",
          "text": [
            "100%|██████████| 16/16 [00:01<00:00, 12.32it/s]\n"
          ]
        },
        {
          "output_type": "stream",
          "name": "stdout",
          "text": [
            "Epoch 5, Train Loss: 2.450, Train Accuracy: 10.60%\n",
            "Epoch 5, Val Loss: 2.422, Val Accuracy: 14.20%\n",
            "Treinamento concluído\n"
          ]
        }
      ],
      "source": [
        "# Treinando a CNN\n",
        "history = train_model(\n",
        "    model=model,\n",
        "    trainloader=trainloader,\n",
        "    valloader=valloader,\n",
        "    criterion=criterion,\n",
        "    optimizer=optimizer\n",
        ")"
      ]
    },
    {
      "cell_type": "code",
      "execution_count": null,
      "metadata": {
        "id": "rgPzgfKGIV4n",
        "colab": {
          "base_uri": "https://localhost:8080/",
          "height": 507
        },
        "outputId": "5c19594d-61d9-4978-994b-7b7a314d4e6a"
      },
      "outputs": [
        {
          "output_type": "display_data",
          "data": {
            "text/plain": [
              "<Figure size 1200x500 with 2 Axes>"
            ],
            "image/png": "[encoded data removed]"
          },
          "metadata": {}
        }
      ],
      "source": [
        "epochs = range(1, len(history['train_losses']) + 1)\n",
        "\n",
        "# Plot de losses\n",
        "plt.figure(figsize=(12, 5))\n",
        "\n",
        "plt.subplot(1, 2, 1)\n",
        "plt.grid()\n",
        "plt.plot(epochs, history['train_losses'], label='Train Loss')\n",
        "plt.plot(epochs, history['val_losses'], label='Validation Loss')\n",
        "plt.xlabel('Epochs')\n",
        "plt.ylabel('Loss')\n",
        "plt.title('Training and Validation Loss')\n",
        "plt.legend()\n",
        "\n",
        "# Plot de accuracies\n",
        "plt.subplot(1, 2, 2)\n",
        "plt.grid()\n",
        "plt.plot(epochs, history['train_accuracies'], label='Train Accuracy')\n",
        "plt.plot(epochs, history['val_accuracies'], label='Validation Accuracy')\n",
        "plt.xlabel('Epochs')\n",
        "plt.ylabel('Accuracy')\n",
        "plt.title('Training and Validation Accuracy')\n",
        "plt.legend()\n",
        "\n",
        "plt.tight_layout()\n",
        "plt.show()"
      ]
    },
    {
      "cell_type": "code",
      "execution_count": null,
      "metadata": {
        "id": "ANM8JmeEIV4o",
        "colab": {
          "base_uri": "https://localhost:8080/"
        },
        "outputId": "d5a6e12a-a5c2-43d6-831f-208a8520ad28"
      },
      "outputs": [
        {
          "output_type": "stream",
          "name": "stdout",
          "text": [
            "Acurácia da rede na base de teste: 89.40%\n"
          ]
        }
      ],
      "source": [
        "test_model(model, testloader)"
      ]
    },
    {
      "cell_type": "code",
      "source": [],
      "metadata": {
        "id": "0Y9v-Cb_pJTD"
      },
      "execution_count": null,
      "outputs": []
    },
    {
      "cell_type": "code",
      "execution_count": null,
      "metadata": {
        "colab": {
          "base_uri": "https://localhost:8080/",
          "height": 507
        },
        "outputId": "36e11233-d35c-43e4-cef0-15f71eb00ef7",
        "id": "IMr-bU8CpJoc"
      },
      "outputs": [
        {
          "output_type": "display_data",
          "data": {
            "text/plain": [
              "<Figure size 1200x500 with 2 Axes>"
            ],
            "image/png": "[encoded data removed]"
          },
          "metadata": {}
        }
      ],
      "source": [
        "epochs = range(1, len(history['train_losses']) + 1)\n",
        "\n",
        "# Plot de losses\n",
        "plt.figure(figsize=(12, 5))\n",
        "\n",
        "plt.subplot(1, 2, 1)\n",
        "plt.grid()\n",
        "plt.plot(epochs, history['train_losses'], label='Train Loss')\n",
        "plt.plot(epochs, history['val_losses'], label='Validation Loss')\n",
        "plt.xlabel('Epochs')\n",
        "plt.ylabel('Loss')\n",
        "plt.title('Training and Validation Loss')\n",
        "plt.legend()\n",
        "\n",
        "# Plot de accuracies\n",
        "plt.subplot(1, 2, 2)\n",
        "plt.grid()\n",
        "plt.plot(epochs, history['train_accuracies'], label='Train Accuracy')\n",
        "plt.plot(epochs, history['val_accuracies'], label='Validation Accuracy')\n",
        "plt.xlabel('Epochs')\n",
        "plt.ylabel('Accuracy')\n",
        "plt.title('Training and Validation Accuracy')\n",
        "plt.legend()\n",
        "\n",
        "plt.tight_layout()\n",
        "plt.show()"
      ]
    },
    {
      "cell_type": "code",
      "source": [
        "test_model(model, testloader)"
      ],
      "metadata": {
        "colab": {
          "base_uri": "https://localhost:8080/"
        },
        "id": "sn9s1B8YpMXE",
        "outputId": "9af2f8bc-e4aa-47e0-bc02-1452ac3357ed"
      },
      "execution_count": null,
      "outputs": [
        {
          "output_type": "stream",
          "name": "stdout",
          "text": [
            "Acurácia da rede na base de teste: 83.80%\n"
          ]
        }
      ]
    },
    {
      "cell_type": "markdown",
      "metadata": {
        "id": "-YfmeAQeIV4p"
      },
      "source": [
        "## Exercícios"
      ]
    },
    {
      "cell_type": "markdown",
      "metadata": {
        "id": "tyWwzuNwIV4q"
      },
      "source": [
        "### Exercício 1\n",
        "Na CNN implementada, execute experimentos variando:\n",
        "- O número de filtros convolucionais em `self.conv1` (6 e 8)\n",
        "- O número de filtros convolucionais em `self.conv2` (12 e 16)\n",
        "\n",
        "Ao final, observe qual combinação desempenha melhor no conjunto de testes.\n",
        "\n",
        "Dica: Adicionar argumentos no construtor da classe para determinar o número de filtros em cada camada pode ser útil para inicializar diversos modelos."
      ]
    },
    {
      "cell_type": "code",
      "source": [
        "combinacoes_parametros = [(2*k, 4*m) for k in range(3, 5) for m in range(3, 5)]\n",
        "\n",
        "\n",
        "for num_filters_1, num_filters_2 in combinacoes_parametros:\n",
        "    print(f\"Treinamento com {num_filters_1} filtros na primeira camada e {num_filters_2} filtros na segunda camada\")\n",
        "    model = CNN(\n",
        "        initialize_weights=True,\n",
        "        dropout=0.2,\n",
        "        num_filters_1=num_filters_1,\n",
        "        num_filters_2=num_filters_2\n",
        "        )\n",
        "\n",
        "    criterion = nn.CrossEntropyLoss()\n",
        "    optimizer = optim.SGD(model.parameters(), lr=0.01, momentum=0.9)\n",
        "\n",
        "    # Treinando a CNN\n",
        "    history = train_model(\n",
        "        model=model,\n",
        "        trainloader=trainloader,\n",
        "        valloader=valloader,\n",
        "        criterion=criterion,\n",
        "        optimizer=optimizer\n",
        "    )\n",
        "\n",
        "    test_model(model, testloader)\n",
        "    print()\n",
        "\n"
      ],
      "metadata": {
        "colab": {
          "base_uri": "https://localhost:8080/"
        },
        "id": "aBrd2TPpNThl",
        "outputId": "920ef3e4-b662-4f39-afe0-0925c26941c0"
      },
      "execution_count": 57,
      "outputs": [
        {
          "output_type": "stream",
          "name": "stdout",
          "text": [
            "Treinamento com 6 filtros na primeira camada e 12 filtros na segunda camada\n"
          ]
        },
        {
          "output_type": "stream",
          "name": "stderr",
          "text": [
            "100%|██████████| 16/16 [00:00<00:00, 21.31it/s]\n"
          ]
        },
        {
          "output_type": "stream",
          "name": "stdout",
          "text": [
            "Epoch 1, Train Loss: 2.289, Train Accuracy: 15.70%\n",
            "Epoch 1, Val Loss: 2.218, Val Accuracy: 28.80%\n"
          ]
        },
        {
          "output_type": "stream",
          "name": "stderr",
          "text": [
            "100%|██████████| 16/16 [00:00<00:00, 20.87it/s]\n"
          ]
        },
        {
          "output_type": "stream",
          "name": "stdout",
          "text": [
            "Epoch 2, Train Loss: 2.070, Train Accuracy: 33.50%\n",
            "Epoch 2, Val Loss: 1.764, Val Accuracy: 49.60%\n"
          ]
        },
        {
          "output_type": "stream",
          "name": "stderr",
          "text": [
            "100%|██████████| 16/16 [00:00<00:00, 20.53it/s]\n"
          ]
        },
        {
          "output_type": "stream",
          "name": "stdout",
          "text": [
            "Epoch 3, Train Loss: 1.384, Train Accuracy: 56.10%\n",
            "Epoch 3, Val Loss: 0.799, Val Accuracy: 77.60%\n"
          ]
        },
        {
          "output_type": "stream",
          "name": "stderr",
          "text": [
            "100%|██████████| 16/16 [00:00<00:00, 19.85it/s]\n"
          ]
        },
        {
          "output_type": "stream",
          "name": "stdout",
          "text": [
            "Epoch 4, Train Loss: 0.809, Train Accuracy: 73.40%\n",
            "Epoch 4, Val Loss: 0.552, Val Accuracy: 84.00%\n"
          ]
        },
        {
          "output_type": "stream",
          "name": "stderr",
          "text": [
            "100%|██████████| 16/16 [00:00<00:00, 20.66it/s]\n"
          ]
        },
        {
          "output_type": "stream",
          "name": "stdout",
          "text": [
            "Epoch 5, Train Loss: 0.536, Train Accuracy: 82.70%\n",
            "Epoch 5, Val Loss: 0.416, Val Accuracy: 86.80%\n",
            "Treinamento concluído\n",
            "Acurácia da rede na base de teste: 88.80%\n",
            "\n",
            "Treinamento com 6 filtros na primeira camada e 16 filtros na segunda camada\n"
          ]
        },
        {
          "output_type": "stream",
          "name": "stderr",
          "text": [
            "100%|██████████| 16/16 [00:01<00:00, 14.22it/s]\n"
          ]
        },
        {
          "output_type": "stream",
          "name": "stdout",
          "text": [
            "Epoch 1, Train Loss: 2.293, Train Accuracy: 15.20%\n",
            "Epoch 1, Val Loss: 2.213, Val Accuracy: 28.00%\n"
          ]
        },
        {
          "output_type": "stream",
          "name": "stderr",
          "text": [
            "100%|██████████| 16/16 [00:01<00:00, 13.94it/s]\n"
          ]
        },
        {
          "output_type": "stream",
          "name": "stdout",
          "text": [
            "Epoch 2, Train Loss: 2.065, Train Accuracy: 31.60%\n",
            "Epoch 2, Val Loss: 1.770, Val Accuracy: 49.00%\n"
          ]
        },
        {
          "output_type": "stream",
          "name": "stderr",
          "text": [
            "100%|██████████| 16/16 [00:01<00:00, 14.97it/s]\n"
          ]
        },
        {
          "output_type": "stream",
          "name": "stdout",
          "text": [
            "Epoch 3, Train Loss: 1.358, Train Accuracy: 56.50%\n",
            "Epoch 3, Val Loss: 0.781, Val Accuracy: 77.40%\n"
          ]
        },
        {
          "output_type": "stream",
          "name": "stderr",
          "text": [
            "100%|██████████| 16/16 [00:00<00:00, 20.62it/s]\n"
          ]
        },
        {
          "output_type": "stream",
          "name": "stdout",
          "text": [
            "Epoch 4, Train Loss: 0.805, Train Accuracy: 73.50%\n",
            "Epoch 4, Val Loss: 0.524, Val Accuracy: 84.60%\n"
          ]
        },
        {
          "output_type": "stream",
          "name": "stderr",
          "text": [
            "100%|██████████| 16/16 [00:00<00:00, 20.56it/s]\n"
          ]
        },
        {
          "output_type": "stream",
          "name": "stdout",
          "text": [
            "Epoch 5, Train Loss: 0.529, Train Accuracy: 82.20%\n",
            "Epoch 5, Val Loss: 0.407, Val Accuracy: 88.40%\n",
            "Treinamento concluído\n",
            "Acurácia da rede na base de teste: 88.80%\n",
            "\n",
            "Treinamento com 8 filtros na primeira camada e 12 filtros na segunda camada\n"
          ]
        },
        {
          "output_type": "stream",
          "name": "stderr",
          "text": [
            "100%|██████████| 16/16 [00:00<00:00, 20.71it/s]\n"
          ]
        },
        {
          "output_type": "stream",
          "name": "stdout",
          "text": [
            "Epoch 1, Train Loss: 2.296, Train Accuracy: 16.10%\n",
            "Epoch 1, Val Loss: 2.200, Val Accuracy: 33.80%\n"
          ]
        },
        {
          "output_type": "stream",
          "name": "stderr",
          "text": [
            "100%|██████████| 16/16 [00:00<00:00, 18.87it/s]\n"
          ]
        },
        {
          "output_type": "stream",
          "name": "stdout",
          "text": [
            "Epoch 2, Train Loss: 2.030, Train Accuracy: 35.20%\n",
            "Epoch 2, Val Loss: 1.691, Val Accuracy: 51.20%\n"
          ]
        },
        {
          "output_type": "stream",
          "name": "stderr",
          "text": [
            "100%|██████████| 16/16 [00:00<00:00, 19.64it/s]\n"
          ]
        },
        {
          "output_type": "stream",
          "name": "stdout",
          "text": [
            "Epoch 3, Train Loss: 1.305, Train Accuracy: 58.30%\n",
            "Epoch 3, Val Loss: 0.744, Val Accuracy: 78.40%\n"
          ]
        },
        {
          "output_type": "stream",
          "name": "stderr",
          "text": [
            "100%|██████████| 16/16 [00:00<00:00, 20.60it/s]\n"
          ]
        },
        {
          "output_type": "stream",
          "name": "stdout",
          "text": [
            "Epoch 4, Train Loss: 0.719, Train Accuracy: 75.70%\n",
            "Epoch 4, Val Loss: 0.477, Val Accuracy: 85.20%\n"
          ]
        },
        {
          "output_type": "stream",
          "name": "stderr",
          "text": [
            "100%|██████████| 16/16 [00:00<00:00, 20.59it/s]\n"
          ]
        },
        {
          "output_type": "stream",
          "name": "stdout",
          "text": [
            "Epoch 5, Train Loss: 0.483, Train Accuracy: 84.80%\n",
            "Epoch 5, Val Loss: 0.399, Val Accuracy: 89.40%\n",
            "Treinamento concluído\n",
            "Acurácia da rede na base de teste: 90.20%\n",
            "\n",
            "Treinamento com 8 filtros na primeira camada e 16 filtros na segunda camada\n"
          ]
        },
        {
          "output_type": "stream",
          "name": "stderr",
          "text": [
            "100%|██████████| 16/16 [00:00<00:00, 20.14it/s]\n"
          ]
        },
        {
          "output_type": "stream",
          "name": "stdout",
          "text": [
            "Epoch 1, Train Loss: 2.241, Train Accuracy: 18.60%\n",
            "Epoch 1, Val Loss: 2.112, Val Accuracy: 24.60%\n"
          ]
        },
        {
          "output_type": "stream",
          "name": "stderr",
          "text": [
            "100%|██████████| 16/16 [00:01<00:00, 14.27it/s]\n"
          ]
        },
        {
          "output_type": "stream",
          "name": "stdout",
          "text": [
            "Epoch 2, Train Loss: 1.827, Train Accuracy: 38.80%\n",
            "Epoch 2, Val Loss: 1.440, Val Accuracy: 56.60%\n"
          ]
        },
        {
          "output_type": "stream",
          "name": "stderr",
          "text": [
            "100%|██████████| 16/16 [00:01<00:00, 12.45it/s]\n"
          ]
        },
        {
          "output_type": "stream",
          "name": "stdout",
          "text": [
            "Epoch 3, Train Loss: 1.111, Train Accuracy: 62.80%\n",
            "Epoch 3, Val Loss: 0.787, Val Accuracy: 74.40%\n"
          ]
        },
        {
          "output_type": "stream",
          "name": "stderr",
          "text": [
            "100%|██████████| 16/16 [00:00<00:00, 17.87it/s]\n"
          ]
        },
        {
          "output_type": "stream",
          "name": "stdout",
          "text": [
            "Epoch 4, Train Loss: 0.698, Train Accuracy: 75.40%\n",
            "Epoch 4, Val Loss: 0.484, Val Accuracy: 83.40%\n"
          ]
        },
        {
          "output_type": "stream",
          "name": "stderr",
          "text": [
            "100%|██████████| 16/16 [00:00<00:00, 20.55it/s]\n"
          ]
        },
        {
          "output_type": "stream",
          "name": "stdout",
          "text": [
            "Epoch 5, Train Loss: 0.506, Train Accuracy: 82.80%\n",
            "Epoch 5, Val Loss: 0.445, Val Accuracy: 84.40%\n",
            "Treinamento concluído\n",
            "Acurácia da rede na base de teste: 86.00%\n",
            "\n"
          ]
        }
      ]
    },
    {
      "cell_type": "markdown",
      "source": [
        "A partir dos quatro experimentos feitos, o exeperimento com o **MODELO 3** (8 filtros na primeira camada convolucional e 12 filtros na segunda camada convolucional) desempenhou melhor no conjunto de testes frente aos outros três experimentos, apresentando uma acurácia de 91,4\\%."
      ],
      "metadata": {
        "id": "jFLAVUGCJl2k"
      }
    },
    {
      "cell_type": "markdown",
      "metadata": {
        "id": "BdGdOBF1IV4r"
      },
      "source": [
        "### Exercício 2\n",
        "\n",
        "Na CNN implementada, execute 5 treinamentos variando aleatoriamente o número de neurônios de saída em `self.fc1` (o valor atual é 64 e também deve ser alterado na entrada da próxima camada).\n",
        "\n",
        "Como você determinaria qual foi o melhor valor?"
      ]
    },
    {
      "cell_type": "code",
      "execution_count": null,
      "metadata": {
        "id": "wwpuoFKnIV4r",
        "outputId": "3e186bf0-0c96-429e-afd1-b259e6c5a758"
      },
      "outputs": [
        {
          "data": {
            "text/plain": [
              "78"
            ]
          },
          "execution_count": 13,
          "metadata": {},
          "output_type": "execute_result"
        }
      ],
      "source": [
        "# for i in range(5):\n",
        "#     num_neurons = np.random.randint(10, 100)\n",
        "#     model = ...\n",
        "#     criterion = ...\n",
        "#     optimizer = ...\n",
        "#     history = ...\n",
        "\n",
        "#     print(f'Número de neurônios na camada fully connected: {num_neurons}')\n",
        "#     test_model(model, testloader)\n",
        "#     print()"
      ]
    },
    {
      "cell_type": "code",
      "source": [
        "for i in range(5):\n",
        "    num_neurons = np.random.randint(10, 100)\n",
        "\n",
        "    model = CNN(\n",
        "        initialize_weights=True,\n",
        "        dropout=0.2,\n",
        "        num_filters_1=num_filters_1,\n",
        "        num_filters_2=num_filters_2,\n",
        "        num_neurons=num_neurons\n",
        "        )\n",
        "\n",
        "    criterion = nn.CrossEntropyLoss()\n",
        "\n",
        "    optimizer = optim.SGD(model.parameters(), lr=0.01, momentum=0.9)\n",
        "\n",
        "    history = train_model(\n",
        "        model=model,\n",
        "        trainloader=trainloader,\n",
        "        valloader=valloader,\n",
        "        criterion=criterion,\n",
        "        optimizer=optimizer\n",
        "    )\n",
        "\n",
        "    print(f'Número de neurônios na camada fully connected: {num_neurons}')\n",
        "    test_model(model, testloader)\n",
        "    print()"
      ],
      "metadata": {
        "colab": {
          "base_uri": "https://localhost:8080/"
        },
        "id": "AcDQelHfKa6W",
        "outputId": "5be165aa-cf96-421b-825c-cdc181076632"
      },
      "execution_count": 58,
      "outputs": [
        {
          "output_type": "stream",
          "name": "stderr",
          "text": [
            "100%|██████████| 16/16 [00:01<00:00, 14.02it/s]\n"
          ]
        },
        {
          "output_type": "stream",
          "name": "stdout",
          "text": [
            "Epoch 1, Train Loss: 2.211, Train Accuracy: 22.90%\n",
            "Epoch 1, Val Loss: 2.023, Val Accuracy: 43.60%\n"
          ]
        },
        {
          "output_type": "stream",
          "name": "stderr",
          "text": [
            "100%|██████████| 16/16 [00:01<00:00, 14.74it/s]\n"
          ]
        },
        {
          "output_type": "stream",
          "name": "stdout",
          "text": [
            "Epoch 2, Train Loss: 1.676, Train Accuracy: 46.70%\n",
            "Epoch 2, Val Loss: 1.163, Val Accuracy: 67.00%\n"
          ]
        },
        {
          "output_type": "stream",
          "name": "stderr",
          "text": [
            "100%|██████████| 16/16 [00:01<00:00, 13.84it/s]\n"
          ]
        },
        {
          "output_type": "stream",
          "name": "stdout",
          "text": [
            "Epoch 3, Train Loss: 1.013, Train Accuracy: 64.30%\n",
            "Epoch 3, Val Loss: 0.649, Val Accuracy: 81.00%\n"
          ]
        },
        {
          "output_type": "stream",
          "name": "stderr",
          "text": [
            "100%|██████████| 16/16 [00:00<00:00, 19.61it/s]\n"
          ]
        },
        {
          "output_type": "stream",
          "name": "stdout",
          "text": [
            "Epoch 4, Train Loss: 0.627, Train Accuracy: 79.30%\n",
            "Epoch 4, Val Loss: 0.463, Val Accuracy: 88.00%\n"
          ]
        },
        {
          "output_type": "stream",
          "name": "stderr",
          "text": [
            "100%|██████████| 16/16 [00:00<00:00, 19.45it/s]\n"
          ]
        },
        {
          "output_type": "stream",
          "name": "stdout",
          "text": [
            "Epoch 5, Train Loss: 0.510, Train Accuracy: 82.40%\n",
            "Epoch 5, Val Loss: 0.451, Val Accuracy: 86.40%\n",
            "Treinamento concluído\n",
            "Número de neurônios na camada fully connected: 55\n",
            "Acurácia da rede na base de teste: 89.60%\n",
            "\n"
          ]
        },
        {
          "output_type": "stream",
          "name": "stderr",
          "text": [
            "100%|██████████| 16/16 [00:00<00:00, 20.64it/s]\n"
          ]
        },
        {
          "output_type": "stream",
          "name": "stdout",
          "text": [
            "Epoch 1, Train Loss: 2.301, Train Accuracy: 12.40%\n",
            "Epoch 1, Val Loss: 2.204, Val Accuracy: 25.40%\n"
          ]
        },
        {
          "output_type": "stream",
          "name": "stderr",
          "text": [
            "100%|██████████| 16/16 [00:00<00:00, 20.05it/s]\n"
          ]
        },
        {
          "output_type": "stream",
          "name": "stdout",
          "text": [
            "Epoch 2, Train Loss: 2.002, Train Accuracy: 37.10%\n",
            "Epoch 2, Val Loss: 1.618, Val Accuracy: 54.00%\n"
          ]
        },
        {
          "output_type": "stream",
          "name": "stderr",
          "text": [
            "100%|██████████| 16/16 [00:00<00:00, 19.87it/s]\n"
          ]
        },
        {
          "output_type": "stream",
          "name": "stdout",
          "text": [
            "Epoch 3, Train Loss: 1.314, Train Accuracy: 55.50%\n",
            "Epoch 3, Val Loss: 0.749, Val Accuracy: 76.00%\n"
          ]
        },
        {
          "output_type": "stream",
          "name": "stderr",
          "text": [
            "100%|██████████| 16/16 [00:00<00:00, 20.73it/s]\n"
          ]
        },
        {
          "output_type": "stream",
          "name": "stdout",
          "text": [
            "Epoch 4, Train Loss: 0.741, Train Accuracy: 74.70%\n",
            "Epoch 4, Val Loss: 0.469, Val Accuracy: 84.60%\n"
          ]
        },
        {
          "output_type": "stream",
          "name": "stderr",
          "text": [
            "100%|██████████| 16/16 [00:00<00:00, 20.38it/s]\n"
          ]
        },
        {
          "output_type": "stream",
          "name": "stdout",
          "text": [
            "Epoch 5, Train Loss: 0.476, Train Accuracy: 84.00%\n",
            "Epoch 5, Val Loss: 0.386, Val Accuracy: 87.60%\n",
            "Treinamento concluído\n",
            "Número de neurônios na camada fully connected: 78\n",
            "Acurácia da rede na base de teste: 89.40%\n",
            "\n"
          ]
        },
        {
          "output_type": "stream",
          "name": "stderr",
          "text": [
            "100%|██████████| 16/16 [00:00<00:00, 19.99it/s]\n"
          ]
        },
        {
          "output_type": "stream",
          "name": "stdout",
          "text": [
            "Epoch 1, Train Loss: 2.272, Train Accuracy: 16.50%\n",
            "Epoch 1, Val Loss: 2.142, Val Accuracy: 39.00%\n"
          ]
        },
        {
          "output_type": "stream",
          "name": "stderr",
          "text": [
            "100%|██████████| 16/16 [00:01<00:00, 15.80it/s]\n"
          ]
        },
        {
          "output_type": "stream",
          "name": "stdout",
          "text": [
            "Epoch 2, Train Loss: 1.900, Train Accuracy: 42.80%\n",
            "Epoch 2, Val Loss: 1.403, Val Accuracy: 62.00%\n"
          ]
        },
        {
          "output_type": "stream",
          "name": "stderr",
          "text": [
            "100%|██████████| 16/16 [00:01<00:00, 14.19it/s]\n"
          ]
        },
        {
          "output_type": "stream",
          "name": "stdout",
          "text": [
            "Epoch 3, Train Loss: 1.125, Train Accuracy: 64.90%\n",
            "Epoch 3, Val Loss: 0.670, Val Accuracy: 80.80%\n"
          ]
        },
        {
          "output_type": "stream",
          "name": "stderr",
          "text": [
            "100%|██████████| 16/16 [00:01<00:00, 13.60it/s]\n"
          ]
        },
        {
          "output_type": "stream",
          "name": "stdout",
          "text": [
            "Epoch 4, Train Loss: 0.689, Train Accuracy: 78.40%\n",
            "Epoch 4, Val Loss: 0.516, Val Accuracy: 83.20%\n"
          ]
        },
        {
          "output_type": "stream",
          "name": "stderr",
          "text": [
            "100%|██████████| 16/16 [00:00<00:00, 20.33it/s]\n"
          ]
        },
        {
          "output_type": "stream",
          "name": "stdout",
          "text": [
            "Epoch 5, Train Loss: 0.479, Train Accuracy: 84.50%\n",
            "Epoch 5, Val Loss: 0.425, Val Accuracy: 87.80%\n",
            "Treinamento concluído\n",
            "Número de neurônios na camada fully connected: 90\n",
            "Acurácia da rede na base de teste: 87.20%\n",
            "\n"
          ]
        },
        {
          "output_type": "stream",
          "name": "stderr",
          "text": [
            "100%|██████████| 16/16 [00:00<00:00, 19.57it/s]\n"
          ]
        },
        {
          "output_type": "stream",
          "name": "stdout",
          "text": [
            "Epoch 1, Train Loss: 2.251, Train Accuracy: 20.10%\n",
            "Epoch 1, Val Loss: 2.150, Val Accuracy: 35.20%\n"
          ]
        },
        {
          "output_type": "stream",
          "name": "stderr",
          "text": [
            "100%|██████████| 16/16 [00:00<00:00, 20.36it/s]\n"
          ]
        },
        {
          "output_type": "stream",
          "name": "stdout",
          "text": [
            "Epoch 2, Train Loss: 1.900, Train Accuracy: 41.00%\n",
            "Epoch 2, Val Loss: 1.510, Val Accuracy: 54.00%\n"
          ]
        },
        {
          "output_type": "stream",
          "name": "stderr",
          "text": [
            "100%|██████████| 16/16 [00:00<00:00, 21.11it/s]\n"
          ]
        },
        {
          "output_type": "stream",
          "name": "stdout",
          "text": [
            "Epoch 3, Train Loss: 1.166, Train Accuracy: 61.90%\n",
            "Epoch 3, Val Loss: 0.663, Val Accuracy: 82.00%\n"
          ]
        },
        {
          "output_type": "stream",
          "name": "stderr",
          "text": [
            "100%|██████████| 16/16 [00:00<00:00, 20.49it/s]\n"
          ]
        },
        {
          "output_type": "stream",
          "name": "stdout",
          "text": [
            "Epoch 4, Train Loss: 0.656, Train Accuracy: 76.80%\n",
            "Epoch 4, Val Loss: 0.424, Val Accuracy: 86.40%\n"
          ]
        },
        {
          "output_type": "stream",
          "name": "stderr",
          "text": [
            "100%|██████████| 16/16 [00:00<00:00, 19.70it/s]\n"
          ]
        },
        {
          "output_type": "stream",
          "name": "stdout",
          "text": [
            "Epoch 5, Train Loss: 0.414, Train Accuracy: 87.20%\n",
            "Epoch 5, Val Loss: 0.344, Val Accuracy: 90.60%\n",
            "Treinamento concluído\n",
            "Número de neurônios na camada fully connected: 61\n",
            "Acurácia da rede na base de teste: 91.40%\n",
            "\n"
          ]
        },
        {
          "output_type": "stream",
          "name": "stderr",
          "text": [
            "100%|██████████| 16/16 [00:00<00:00, 20.08it/s]\n"
          ]
        },
        {
          "output_type": "stream",
          "name": "stdout",
          "text": [
            "Epoch 1, Train Loss: 2.279, Train Accuracy: 13.00%\n",
            "Epoch 1, Val Loss: 2.197, Val Accuracy: 27.40%\n"
          ]
        },
        {
          "output_type": "stream",
          "name": "stderr",
          "text": [
            "100%|██████████| 16/16 [00:00<00:00, 20.08it/s]\n"
          ]
        },
        {
          "output_type": "stream",
          "name": "stdout",
          "text": [
            "Epoch 2, Train Loss: 2.093, Train Accuracy: 26.20%\n",
            "Epoch 2, Val Loss: 1.900, Val Accuracy: 48.20%\n"
          ]
        },
        {
          "output_type": "stream",
          "name": "stderr",
          "text": [
            "100%|██████████| 16/16 [00:01<00:00, 13.74it/s]\n"
          ]
        },
        {
          "output_type": "stream",
          "name": "stdout",
          "text": [
            "Epoch 3, Train Loss: 1.698, Train Accuracy: 42.50%\n",
            "Epoch 3, Val Loss: 1.258, Val Accuracy: 64.00%\n"
          ]
        },
        {
          "output_type": "stream",
          "name": "stderr",
          "text": [
            "100%|██████████| 16/16 [00:01<00:00, 14.01it/s]\n"
          ]
        },
        {
          "output_type": "stream",
          "name": "stdout",
          "text": [
            "Epoch 4, Train Loss: 1.174, Train Accuracy: 59.80%\n",
            "Epoch 4, Val Loss: 0.768, Val Accuracy: 78.20%\n"
          ]
        },
        {
          "output_type": "stream",
          "name": "stderr",
          "text": [
            "100%|██████████| 16/16 [00:01<00:00, 14.50it/s]\n"
          ]
        },
        {
          "output_type": "stream",
          "name": "stdout",
          "text": [
            "Epoch 5, Train Loss: 0.871, Train Accuracy: 70.60%\n",
            "Epoch 5, Val Loss: 0.581, Val Accuracy: 83.00%\n",
            "Treinamento concluído\n",
            "Número de neurônios na camada fully connected: 20\n",
            "Acurácia da rede na base de teste: 84.40%\n",
            "\n"
          ]
        }
      ]
    },
    {
      "cell_type": "markdown",
      "source": [
        "Com base nesse experimento, o melhor valor foi 61 neurônios na camada fully connected, pois com tal valor obteve-se 91,4\\% de acurácia no conjunto de testes.\n",
        "\n",
        "Portanto, a escolha do melhor valor é baseada no valor da acurácia que o mesmo traz para o conjunto de testes."
      ],
      "metadata": {
        "id": "dSK7-ssqXTyM"
      }
    }
  ],
  "metadata": {
    "kernelspec": {
      "display_name": "base",
      "language": "python",
      "name": "python3"
    },
    "language_info": {
      "codemirror_mode": {
        "name": "ipython",
        "version": 3
      },
      "file_extension": ".py",
      "mimetype": "text/x-python",
      "name": "python",
      "nbconvert_exporter": "python",
      "pygments_lexer": "ipython3",
      "version": "3.10.13"
    },
    "colab": {
      "provenance": [],
      "include_colab_link": true
    }
  },
  "nbformat": 4,
  "nbformat_minor": 0
}