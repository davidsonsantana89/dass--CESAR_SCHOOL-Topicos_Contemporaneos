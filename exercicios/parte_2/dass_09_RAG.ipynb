{
  "cells": [
    {
      "cell_type": "markdown",
      "metadata": {
        "id": "view-in-github",
        "colab_type": "text"
      },
      "source": [
        "<a href=\"https://colab.research.google.com/github/davidsonsantana89/dass--CESAR_SCHOOL-Topicos_Contemporaneos/blob/main/exercicios/parte_2/dass_09_RAG.ipynb\" target=\"_parent\"><img src=\"https://colab.research.google.com/assets/colab-badge.svg\" alt=\"Open In Colab\"/></a>"
      ]
    },
    {
      "cell_type": "markdown",
      "source": [
        "DAVIDSON ALVES SANTOS DE SANTANA\n",
        "\n",
        "dass@cesar.school"
      ],
      "metadata": {
        "id": "_vHohb3PQ1TZ"
      }
    },
    {
      "cell_type": "code",
      "execution_count": null,
      "metadata": {
        "id": "YbsdfUJEqmwu",
        "colab": {
          "base_uri": "https://localhost:8080/"
        },
        "outputId": "7dcc5e10-d794-4e73-8888-e2b117bc8949"
      },
      "outputs": [
        {
          "name": "stdout",
          "output_type": "stream",
          "text": [
            "··········\n"
          ]
        }
      ],
      "source": [
        "import getpass\n",
        "import os\n",
        "\n",
        "os.environ[\"OPENAI_API_KEY\"] = getpass.getpass()"
      ]
    },
    {
      "cell_type": "markdown",
      "metadata": {
        "id": "EsYj05abqmwu"
      },
      "source": [
        "## Retrieval Augmented Generation (RAG)"
      ]
    },
    {
      "cell_type": "code",
      "source": [
        "!pip install langchain_community langchain_openai langchain_text_splitters langchain_community faiss-gpu"
      ],
      "metadata": {
        "colab": {
          "base_uri": "https://localhost:8080/"
        },
        "id": "RHKTxTdKssCC",
        "outputId": "38850760-1349-4aaf-aa83-c4b7f5376747"
      },
      "execution_count": null,
      "outputs": [
        {
          "output_type": "stream",
          "name": "stdout",
          "text": [
            "Requirement already satisfied: langchain_community in /usr/local/lib/python3.10/dist-packages (0.2.15)\n",
            "Requirement already satisfied: langchain_openai in /usr/local/lib/python3.10/dist-packages (0.1.23)\n",
            "Requirement already satisfied: langchain_text_splitters in /usr/local/lib/python3.10/dist-packages (0.2.2)\n",
            "Requirement already satisfied: faiss-gpu in /usr/local/lib/python3.10/dist-packages (1.7.2)\n",
            "Requirement already satisfied: PyYAML>=5.3 in /usr/local/lib/python3.10/dist-packages (from langchain_community) (6.0.2)\n",
            "Requirement already satisfied: SQLAlchemy<3,>=1.4 in /usr/local/lib/python3.10/dist-packages (from langchain_community) (2.0.32)\n",
            "Requirement already satisfied: aiohttp<4.0.0,>=3.8.3 in /usr/local/lib/python3.10/dist-packages (from langchain_community) (3.10.5)\n",
            "Requirement already satisfied: dataclasses-json<0.7,>=0.5.7 in /usr/local/lib/python3.10/dist-packages (from langchain_community) (0.6.7)\n",
            "Requirement already satisfied: langchain<0.3.0,>=0.2.15 in /usr/local/lib/python3.10/dist-packages (from langchain_community) (0.2.15)\n",
            "Requirement already satisfied: langchain-core<0.3.0,>=0.2.37 in /usr/local/lib/python3.10/dist-packages (from langchain_community) (0.2.37)\n",
            "Requirement already satisfied: langsmith<0.2.0,>=0.1.0 in /usr/local/lib/python3.10/dist-packages (from langchain_community) (0.1.108)\n",
            "Requirement already satisfied: numpy<2,>=1 in /usr/local/lib/python3.10/dist-packages (from langchain_community) (1.26.4)\n",
            "Requirement already satisfied: requests<3,>=2 in /usr/local/lib/python3.10/dist-packages (from langchain_community) (2.32.3)\n",
            "Requirement already satisfied: tenacity!=8.4.0,<9.0.0,>=8.1.0 in /usr/local/lib/python3.10/dist-packages (from langchain_community) (8.5.0)\n",
            "Requirement already satisfied: openai<2.0.0,>=1.40.0 in /usr/local/lib/python3.10/dist-packages (from langchain_openai) (1.43.0)\n",
            "Requirement already satisfied: tiktoken<1,>=0.7 in /usr/local/lib/python3.10/dist-packages (from langchain_openai) (0.7.0)\n",
            "Requirement already satisfied: aiohappyeyeballs>=2.3.0 in /usr/local/lib/python3.10/dist-packages (from aiohttp<4.0.0,>=3.8.3->langchain_community) (2.4.0)\n",
            "Requirement already satisfied: aiosignal>=1.1.2 in /usr/local/lib/python3.10/dist-packages (from aiohttp<4.0.0,>=3.8.3->langchain_community) (1.3.1)\n",
            "Requirement already satisfied: attrs>=17.3.0 in /usr/local/lib/python3.10/dist-packages (from aiohttp<4.0.0,>=3.8.3->langchain_community) (24.2.0)\n",
            "Requirement already satisfied: frozenlist>=1.1.1 in /usr/local/lib/python3.10/dist-packages (from aiohttp<4.0.0,>=3.8.3->langchain_community) (1.4.1)\n",
            "Requirement already satisfied: multidict<7.0,>=4.5 in /usr/local/lib/python3.10/dist-packages (from aiohttp<4.0.0,>=3.8.3->langchain_community) (6.0.5)\n",
            "Requirement already satisfied: yarl<2.0,>=1.0 in /usr/local/lib/python3.10/dist-packages (from aiohttp<4.0.0,>=3.8.3->langchain_community) (1.9.4)\n",
            "Requirement already satisfied: async-timeout<5.0,>=4.0 in /usr/local/lib/python3.10/dist-packages (from aiohttp<4.0.0,>=3.8.3->langchain_community) (4.0.3)\n",
            "Requirement already satisfied: marshmallow<4.0.0,>=3.18.0 in /usr/local/lib/python3.10/dist-packages (from dataclasses-json<0.7,>=0.5.7->langchain_community) (3.22.0)\n",
            "Requirement already satisfied: typing-inspect<1,>=0.4.0 in /usr/local/lib/python3.10/dist-packages (from dataclasses-json<0.7,>=0.5.7->langchain_community) (0.9.0)\n",
            "Requirement already satisfied: pydantic<3,>=1 in /usr/local/lib/python3.10/dist-packages (from langchain<0.3.0,>=0.2.15->langchain_community) (2.8.2)\n",
            "Requirement already satisfied: jsonpatch<2.0,>=1.33 in /usr/local/lib/python3.10/dist-packages (from langchain-core<0.3.0,>=0.2.37->langchain_community) (1.33)\n",
            "Requirement already satisfied: packaging<25,>=23.2 in /usr/local/lib/python3.10/dist-packages (from langchain-core<0.3.0,>=0.2.37->langchain_community) (24.1)\n",
            "Requirement already satisfied: typing-extensions>=4.7 in /usr/local/lib/python3.10/dist-packages (from langchain-core<0.3.0,>=0.2.37->langchain_community) (4.12.2)\n",
            "Requirement already satisfied: httpx<1,>=0.23.0 in /usr/local/lib/python3.10/dist-packages (from langsmith<0.2.0,>=0.1.0->langchain_community) (0.27.2)\n",
            "Requirement already satisfied: orjson<4.0.0,>=3.9.14 in /usr/local/lib/python3.10/dist-packages (from langsmith<0.2.0,>=0.1.0->langchain_community) (3.10.7)\n",
            "Requirement already satisfied: anyio<5,>=3.5.0 in /usr/local/lib/python3.10/dist-packages (from openai<2.0.0,>=1.40.0->langchain_openai) (3.7.1)\n",
            "Requirement already satisfied: distro<2,>=1.7.0 in /usr/lib/python3/dist-packages (from openai<2.0.0,>=1.40.0->langchain_openai) (1.7.0)\n",
            "Requirement already satisfied: jiter<1,>=0.4.0 in /usr/local/lib/python3.10/dist-packages (from openai<2.0.0,>=1.40.0->langchain_openai) (0.5.0)\n",
            "Requirement already satisfied: sniffio in /usr/local/lib/python3.10/dist-packages (from openai<2.0.0,>=1.40.0->langchain_openai) (1.3.1)\n",
            "Requirement already satisfied: tqdm>4 in /usr/local/lib/python3.10/dist-packages (from openai<2.0.0,>=1.40.0->langchain_openai) (4.66.5)\n",
            "Requirement already satisfied: charset-normalizer<4,>=2 in /usr/local/lib/python3.10/dist-packages (from requests<3,>=2->langchain_community) (3.3.2)\n",
            "Requirement already satisfied: idna<4,>=2.5 in /usr/local/lib/python3.10/dist-packages (from requests<3,>=2->langchain_community) (3.8)\n",
            "Requirement already satisfied: urllib3<3,>=1.21.1 in /usr/local/lib/python3.10/dist-packages (from requests<3,>=2->langchain_community) (2.0.7)\n",
            "Requirement already satisfied: certifi>=2017.4.17 in /usr/local/lib/python3.10/dist-packages (from requests<3,>=2->langchain_community) (2024.7.4)\n",
            "Requirement already satisfied: greenlet!=0.4.17 in /usr/local/lib/python3.10/dist-packages (from SQLAlchemy<3,>=1.4->langchain_community) (3.0.3)\n",
            "Requirement already satisfied: regex>=2022.1.18 in /usr/local/lib/python3.10/dist-packages (from tiktoken<1,>=0.7->langchain_openai) (2024.5.15)\n",
            "Requirement already satisfied: exceptiongroup in /usr/local/lib/python3.10/dist-packages (from anyio<5,>=3.5.0->openai<2.0.0,>=1.40.0->langchain_openai) (1.2.2)\n",
            "Requirement already satisfied: httpcore==1.* in /usr/local/lib/python3.10/dist-packages (from httpx<1,>=0.23.0->langsmith<0.2.0,>=0.1.0->langchain_community) (1.0.5)\n",
            "Requirement already satisfied: h11<0.15,>=0.13 in /usr/local/lib/python3.10/dist-packages (from httpcore==1.*->httpx<1,>=0.23.0->langsmith<0.2.0,>=0.1.0->langchain_community) (0.14.0)\n",
            "Requirement already satisfied: jsonpointer>=1.9 in /usr/local/lib/python3.10/dist-packages (from jsonpatch<2.0,>=1.33->langchain-core<0.3.0,>=0.2.37->langchain_community) (3.0.0)\n",
            "Requirement already satisfied: annotated-types>=0.4.0 in /usr/local/lib/python3.10/dist-packages (from pydantic<3,>=1->langchain<0.3.0,>=0.2.15->langchain_community) (0.7.0)\n",
            "Requirement already satisfied: pydantic-core==2.20.1 in /usr/local/lib/python3.10/dist-packages (from pydantic<3,>=1->langchain<0.3.0,>=0.2.15->langchain_community) (2.20.1)\n",
            "Requirement already satisfied: mypy-extensions>=0.3.0 in /usr/local/lib/python3.10/dist-packages (from typing-inspect<1,>=0.4.0->dataclasses-json<0.7,>=0.5.7->langchain_community) (1.0.0)\n"
          ]
        }
      ]
    },
    {
      "cell_type": "markdown",
      "metadata": {
        "id": "GX2UF4Hzqmwv"
      },
      "source": [
        "### Carregando Documentos - Loading"
      ]
    },
    {
      "cell_type": "code",
      "execution_count": null,
      "metadata": {
        "id": "X4CtB9Ixqmww",
        "colab": {
          "base_uri": "https://localhost:8080/"
        },
        "outputId": "906182b7-1aea-4609-dcb9-9c9c184c89a7"
      },
      "outputs": [
        {
          "output_type": "execute_result",
          "data": {
            "text/plain": [
              "6915"
            ]
          },
          "metadata": {},
          "execution_count": 28
        }
      ],
      "source": [
        "# https://python.langchain.com/v0.2/docs/how_to/#document-loaders\n",
        "# https://python.langchain.com/v0.2/docs/integrations/document_loaders/\n",
        "\n",
        "import bs4\n",
        "from langchain_community.document_loaders import WebBaseLoader, TextLoader\n",
        "\n",
        "# Filtra o conteúdo da página por uma classe específica\n",
        "bs4_strainer = bs4.SoupStrainer(class_=(\"mw-body-content\"))\n",
        "\n",
        "# Carrega o conteúdo da página\n",
        "loader = WebBaseLoader(\n",
        "    web_paths=(\"https://pt.wikipedia.org/wiki/Centro_de_Estudos_e_Sistemas_Avan%C3%A7ados_do_Recife\",),\n",
        "    bs_kwargs={\"parse_only\": bs4_strainer},\n",
        ")\n",
        "\n",
        "# Carrega o conteúdo da página\n",
        "docs = loader.load()\n",
        "\n",
        "len(docs[0].page_content)"
      ]
    },
    {
      "cell_type": "code",
      "execution_count": null,
      "metadata": {
        "id": "EpBP5Jnkqmwx",
        "colab": {
          "base_uri": "https://localhost:8080/"
        },
        "outputId": "95e53bb0-ced6-4146-e49c-a487ef45c86c"
      },
      "outputs": [
        {
          "output_type": "stream",
          "name": "stdout",
          "text": [
            "cife, também conhecido por seu acrônimo CESAR, é um centro de pesquisa e inovação sem fins lucrativos com sede na cidade do Recife, Pernambuco e filiais em Sorocaba, Curitiba e Manaus.[1] O CESAR foi fundado em 1996 por três professores do Centro de Informática da UFPE, Silvio Meira, Fábio Silva e Ismar Kaufman, como forma de aproximar a academia do mercado.[2]\n",
            "Em 2019, o centro conta com mais de 600 funcionários e em 2018 seu faturamento foi da ordem de R$ 100 milhões.[1][3][4][5]\n",
            "O CESAR é par\n"
          ]
        }
      ],
      "source": [
        "print(docs[0].page_content[500:1000])"
      ]
    },
    {
      "cell_type": "markdown",
      "metadata": {
        "id": "D4o6640oqmwy"
      },
      "source": [
        "### Dividindo Documentos - Splitting/Chunking"
      ]
    },
    {
      "cell_type": "code",
      "execution_count": null,
      "metadata": {
        "id": "H4xSO3uiqmwz",
        "colab": {
          "base_uri": "https://localhost:8080/"
        },
        "outputId": "9928be56-f682-4bbe-f132-300ce489b5de"
      },
      "outputs": [
        {
          "output_type": "execute_result",
          "data": {
            "text/plain": [
              "10"
            ]
          },
          "metadata": {},
          "execution_count": 7
        }
      ],
      "source": [
        "# https://python.langchain.com/v0.2/docs/how_to/#text-splitters\n",
        "\n",
        "from langchain_text_splitters import RecursiveCharacterTextSplitter\n",
        "\n",
        "text_splitter = RecursiveCharacterTextSplitter(\n",
        "    chunk_size=1000, chunk_overlap=200, add_start_index=True\n",
        ")\n",
        "all_splits = text_splitter.split_documents(docs)\n",
        "\n",
        "len(all_splits)"
      ]
    },
    {
      "cell_type": "code",
      "execution_count": null,
      "metadata": {
        "id": "7L-Z0sdHqmw0",
        "colab": {
          "base_uri": "https://localhost:8080/"
        },
        "outputId": "f56500cb-86c0-41e1-dd24-a30e6b8c780b"
      },
      "outputs": [
        {
          "output_type": "stream",
          "name": "stdout",
          "text": [
            "Área Educacional[editar | editar código-fonte]\n",
            "Além de atuar como centro de pesquisa e inovação, o CESAR criou um braço educacional, a CESAR School, oferecendo cursos de graduação, mestrados e doutorados profissionais.[4]\n",
            "O centro iniciou sua atuação na área educacional em 2007 quando iniciou a oferta do mestrado profissional em Engenharia de Software, que foi avaliado pela CAPES em 2017 como um dos dois melhores mestrados profissionais na área de computação do país.[8] Em 2013 foi autorizada a abertura do segundo mestrado profissional, dessa vez com ênfase em Design de Artefatos Digitais.[9] A partir de 2016 o mestrado em Design passou a também ser oferecido na unidade de Manaus.[10]\n"
          ]
        }
      ],
      "source": [
        "print(all_splits[2].page_content)"
      ]
    },
    {
      "cell_type": "markdown",
      "metadata": {
        "id": "yubwTgnhqmw1"
      },
      "source": [
        "### Indexando - Store"
      ]
    },
    {
      "cell_type": "code",
      "execution_count": null,
      "metadata": {
        "id": "HXbccODBqmw1"
      },
      "outputs": [],
      "source": [
        "# https://python.langchain.com/v0.2/docs/how_to/embed_text/\n",
        "\n",
        "from langchain_community.vectorstores import FAISS\n",
        "from langchain_openai import OpenAIEmbeddings\n",
        "\n",
        "vectorstore = FAISS.from_documents(all_splits, OpenAIEmbeddings())"
      ]
    },
    {
      "cell_type": "code",
      "execution_count": null,
      "metadata": {
        "id": "hIIo4nGOqmw1",
        "colab": {
          "base_uri": "https://localhost:8080/"
        },
        "outputId": "4e4f1a76-d7e0-4750-8887-858627431f96"
      },
      "outputs": [
        {
          "output_type": "execute_result",
          "data": {
            "text/plain": [
              "6"
            ]
          },
          "metadata": {},
          "execution_count": 10
        }
      ],
      "source": [
        "retriever = vectorstore.as_retriever(search_type=\"similarity\", search_kwargs={\"k\": 6})\n",
        "\n",
        "retrieved_docs = retriever.invoke(\"Onde está localizado o CESAR?\")\n",
        "\n",
        "len(retrieved_docs)"
      ]
    },
    {
      "cell_type": "code",
      "execution_count": null,
      "metadata": {
        "id": "kHE44j6uqmw2",
        "colab": {
          "base_uri": "https://localhost:8080/"
        },
        "outputId": "20361735-279e-4910-87b4-b564f346be2a"
      },
      "outputs": [
        {
          "output_type": "stream",
          "name": "stdout",
          "text": [
            "Área Educacional[editar | editar código-fonte]\n",
            "Além de atuar como centro de pesquisa e inovação, o CESAR criou um braço educacional, a CESAR School, oferecendo cursos de graduação, mestrados e doutorados profissionais.[4]\n",
            "O centro iniciou sua atuação na área educacional em 2007 quando iniciou a oferta do mestrado profissional em Engenharia de Software, que foi avaliado pela CAPES em 2017 como um dos dois melhores mestrados profissionais na área de computação do país.[8] Em 2013 foi autorizada a abertura do segundo mestrado profissional, dessa vez com ênfase em Design de Artefatos Digitais.[9] A partir de 2016 o mestrado em Design passou a também ser oferecido na unidade de Manaus.[10]\n"
          ]
        }
      ],
      "source": [
        "print(retrieved_docs[0].page_content)"
      ]
    },
    {
      "cell_type": "markdown",
      "metadata": {
        "id": "Qh6yWGYdqmw2"
      },
      "source": [
        "### Buscando e Recuperando Informações - Retrieve"
      ]
    },
    {
      "cell_type": "code",
      "execution_count": null,
      "metadata": {
        "id": "M3rFTggXqmw2"
      },
      "outputs": [],
      "source": [
        "from langchain_core.prompts import ChatPromptTemplate\n",
        "\n",
        "system_template = \"\"\"Você é um assistente para tarefas de perguntas e respostas. Use os seguintes trechos de contexto recuperados para responder à pergunta. Se você não souber a resposta, apenas diga que não sabe. Use no máximo duas frases e mantenha a resposta concisa e fale apenas o necessário.\n",
        "\n",
        "Pergunta: {question}\n",
        "\n",
        "Contexto: {context}\n",
        "\n",
        "Resposta:\n",
        "\"\"\"\n",
        "\n",
        "prompt_template = ChatPromptTemplate.from_template(system_template)"
      ]
    },
    {
      "cell_type": "code",
      "execution_count": null,
      "metadata": {
        "id": "GNr3p7gEqmw3",
        "colab": {
          "base_uri": "https://localhost:8080/"
        },
        "outputId": "aaa6e683-5198-4f3d-806b-32d32c767229"
      },
      "outputs": [
        {
          "output_type": "stream",
          "name": "stdout",
          "text": [
            "[HumanMessage(content='Você é um assistente para tarefas de perguntas e respostas. Use os seguintes trechos de contexto recuperados para responder à pergunta. Se você não souber a resposta, apenas diga que não sabe. Use no máximo duas frases e mantenha a resposta concisa e fale apenas o necessário.\\n\\nPergunta: alguma pergunta\\n\\nContexto: algum contexto\\n\\nResposta:\\n')]\n"
          ]
        }
      ],
      "source": [
        "example_messages = prompt_template.invoke({\n",
        "    \"context\": \"algum contexto\",\n",
        "    \"question\": \"alguma pergunta\"\n",
        "})\n",
        "\n",
        "print(example_messages.to_messages())"
      ]
    },
    {
      "cell_type": "markdown",
      "metadata": {
        "id": "R9fazCs1qmw3"
      },
      "source": [
        "### Gerando Respostas - Generate"
      ]
    },
    {
      "cell_type": "code",
      "execution_count": null,
      "metadata": {
        "id": "moUUNsvWqmw3"
      },
      "outputs": [],
      "source": [
        "from langchain_openai import ChatOpenAI\n",
        "\n",
        "llm = ChatOpenAI(model=\"gpt-4o-mini\")"
      ]
    },
    {
      "cell_type": "code",
      "execution_count": null,
      "metadata": {
        "id": "ddNjAjLGqmw3"
      },
      "outputs": [],
      "source": [
        "from langchain_core.output_parsers import StrOutputParser\n",
        "from langchain_core.runnables import RunnablePassthrough\n",
        "\n",
        "def format_docs(docs):\n",
        "    return \"\\n\\n\".join(doc.page_content for doc in docs)\n",
        "\n",
        "rag_chain = (\n",
        "    {\"context\": retriever | format_docs, \"question\": RunnablePassthrough()}\n",
        "    | prompt_template\n",
        "    | llm\n",
        "    | StrOutputParser()\n",
        ")"
      ]
    },
    {
      "cell_type": "code",
      "execution_count": null,
      "metadata": {
        "id": "fO_umHU0qmw4",
        "colab": {
          "base_uri": "https://localhost:8080/"
        },
        "outputId": "e0c016a6-f7ad-4bf1-9033-8a8a0ca6845d"
      },
      "outputs": [
        {
          "output_type": "stream",
          "name": "stdout",
          "text": [
            "O CESAR, ou Centro de Estudos e Sistemas Avançados do Recife, fica na cidade do Recife, Pernambuco. Ele também possui filiais em Sorocaba, Curitiba e Manaus."
          ]
        }
      ],
      "source": [
        "for chunk in rag_chain.stream(\"Onde fica o CESAR?\"):\n",
        "    print(chunk, end=\"\", flush=True)"
      ]
    },
    {
      "cell_type": "markdown",
      "metadata": {
        "id": "oZT1yaf2qmw4"
      },
      "source": [
        "## Exercícios"
      ]
    },
    {
      "cell_type": "markdown",
      "metadata": {
        "id": "PonaMbH1qmw4"
      },
      "source": [
        "### Exercício 1\n",
        "Faça um RAG com um pequeno arquivo de texto, contendo informações que, certamente, a LLM não conheça. Você deverá construir o arquivo e enviar para o ambiente de execução. Escolha a forma de chunking apropriada para o seu documento."
      ]
    },
    {
      "cell_type": "markdown",
      "source": [
        "O texto escolhido para esta atividade foi a Instrução Normativa de Avaliação do Estado de Pernambuco Nº 04\\/2014."
      ],
      "metadata": {
        "id": "QaXeQkqxULNw"
      }
    },
    {
      "cell_type": "code",
      "source": [
        "!mkdir data"
      ],
      "metadata": {
        "id": "L_u17zV9A-Hq"
      },
      "execution_count": null,
      "outputs": []
    },
    {
      "cell_type": "code",
      "source": [
        "!wget https://raw.githubusercontent.com/davidsonsantana89/dass--CESAR_SCHOOL-Topicos_Contemporaneos/main/arquivos_de_texto/INSTRU%C3%87%C3%83O%20NORMATIVA%20DE%20AVALIA%C3%87%C3%83O%20N%C2%BA%2004-2014.txt -O data/instrucao_normativa.txt"
      ],
      "metadata": {
        "colab": {
          "base_uri": "https://localhost:8080/"
        },
        "id": "nrqpaBtKARnZ",
        "outputId": "407056c9-e296-405a-938f-d71e63bc94b1"
      },
      "execution_count": null,
      "outputs": [
        {
          "output_type": "stream",
          "name": "stdout",
          "text": [
            "--2024-08-31 20:04:21--  https://raw.githubusercontent.com/davidsonsantana89/dass--CESAR_SCHOOL-Topicos_Contemporaneos/main/arquivos_de_texto/INSTRU%C3%87%C3%83O%20NORMATIVA%20DE%20AVALIA%C3%87%C3%83O%20N%C2%BA%2004-2014.txt\n",
            "Resolving raw.githubusercontent.com (raw.githubusercontent.com)... 185.199.110.133, 185.199.109.133, 185.199.111.133, ...\n",
            "Connecting to raw.githubusercontent.com (raw.githubusercontent.com)|185.199.110.133|:443... connected.\n",
            "HTTP request sent, awaiting response... 200 OK\n",
            "Length: 22581 (22K) [text/plain]\n",
            "Saving to: ‘data/instrucao_normativa.txt’\n",
            "\n",
            "\r          data/inst   0%[                    ]       0  --.-KB/s               \rdata/instrucao_norm 100%[===================>]  22.05K  --.-KB/s    in 0.002s  \n",
            "\n",
            "2024-08-31 20:04:21 (13.4 MB/s) - ‘data/instrucao_normativa.txt’ saved [22581/22581]\n",
            "\n"
          ]
        }
      ]
    },
    {
      "cell_type": "code",
      "source": [
        "caminho_arquivo = \"data/instrucao_normativa.txt\"\n",
        "\n",
        "loader = TextLoader(caminho_arquivo)\n",
        "docs = loader.load()\n",
        "\n",
        "print(docs[0].page_content[:1000])"
      ],
      "metadata": {
        "colab": {
          "base_uri": "https://localhost:8080/"
        },
        "id": "wpBHuULZBhOI",
        "outputId": "5559f9c1-25d3-43c4-a824-3591b0bb25db"
      },
      "execution_count": null,
      "outputs": [
        {
          "output_type": "stream",
          "name": "stdout",
          "text": [
            " INSTRUÇÃO NORMATIVA DE AVALIAÇÃO Nº 04/2014\n",
            " Dispõe sobre as diretrizes e procedimentos do Sistema de Avaliação das Aprendizagens nas Escolas da Rede Estadual de Ensino, a \n",
            "partir do ano letivo de 2015.\n",
            " O SECRETÁRIO DE EDUCAÇÃO E ESPORTES, no uso da competência que lhe foi conferida pelo Decreto Estadual nº 40.599/2014, \n",
            "por intermédio da Secretaria Executiva de Desenvolvimento da Educação - SEDE, através da Gerência de Normatização do Ensino - \n",
            "GENE, com base na Lei Federal nº. 9.394/96, alterada pela Lei Federal n°12.796/13, na Lei nº 10.172/01, na Lei Federal nº 11.274/06, \n",
            "no Parecer CNE/CEB nº 6/05, na Resolução CNE/CEB nº 3/05, no Parecer CNE/CEB nº 18/05, na Resolução CEE/PE nº 03/06, na Lei \n",
            "Estadual nº 12.252/02, na Lei Estadual nº 12.286/02, na Lei Estadual nº 14.789/12, na Resolução CEE/PE nº 02/07, no Parecer CNE/\n",
            " CEB nº 20/09, na Resolução CNE/CEB nº 5/09, no Parecer CNE/CEB nº 5/11, na Resolução CNE/CEB nº 2/12, no Decreto Federal nº \n",
            "5.154/04, no Decreto Federal nº 5.\n"
          ]
        }
      ]
    },
    {
      "cell_type": "code",
      "source": [
        "text_splitter = RecursiveCharacterTextSplitter(\n",
        "    chunk_size=1000, chunk_overlap=200, add_start_index=True\n",
        ")\n",
        "todos_pedacos = text_splitter.split_documents(docs)\n",
        "\n",
        "len(todos_pedacos)"
      ],
      "metadata": {
        "colab": {
          "base_uri": "https://localhost:8080/"
        },
        "id": "3PFectTuEwbq",
        "outputId": "1f937a38-9665-4696-dc21-ab4176fa1da4"
      },
      "execution_count": null,
      "outputs": [
        {
          "output_type": "execute_result",
          "data": {
            "text/plain": [
              "27"
            ]
          },
          "metadata": {},
          "execution_count": 49
        }
      ]
    },
    {
      "cell_type": "code",
      "source": [
        "print(todos_pedacos[15].page_content)"
      ],
      "metadata": {
        "colab": {
          "base_uri": "https://localhost:8080/"
        },
        "id": "HiXmAvPmE4qB",
        "outputId": "f25c68b0-e75f-48f4-9a63-e5ff9617e9d7"
      },
      "execution_count": null,
      "outputs": [
        {
          "output_type": "stream",
          "name": "stdout",
          "text": [
            "do Normal em nível Médio, da EJA Médio e do PROEJA, quando concluir com êxito o 9º ano do Ensino Fundamental.\n",
            " § 5º O (a) estudante em regime de progressão parcial deverá obter em cada componente curricular a nota mínima 6,0 (seis) para \n",
            "aprovação.\n",
            " § 6º Ao (à) estudante em regime de progressão parcial, serão oferecidas, no mínimo, 03 (três) oportunidades de reensino e avaliação da \n",
            "aprendizagem no ano letivo subsequente.\n",
            " § 7º O (A) estudante reprovado (a) em até dois componentes curriculares no 9º ano e na IV fase da EJA do Ensino Fundamental, no \n",
            "3º ano do Ensino Médio, do Ensino Médio Integral, do Ensino Médio Semi-Integral, no 4º ano do Ensino Médio Integrado à Educação \n",
            "Profissional, no 4º ano da Educação Profissional em nível Médio, no 4º ano do Normal em nível Médio, no 3º módulo da EJA Médio e no 4º \n",
            "módulo do PROEJA, terá direito a exame especial de progressão parcial, a realizar-se no final do ano/fase/módulo letivo, conferindo-lhe,\n"
          ]
        }
      ]
    },
    {
      "cell_type": "code",
      "source": [
        "from langchain_community.vectorstores import FAISS\n",
        "from langchain_openai import OpenAIEmbeddings\n",
        "\n",
        "vectorstore = FAISS.from_documents(todos_pedacos, OpenAIEmbeddings())"
      ],
      "metadata": {
        "id": "oGFWcg2BFvfD"
      },
      "execution_count": null,
      "outputs": []
    },
    {
      "cell_type": "code",
      "source": [
        "retriever = vectorstore.as_retriever(search_type=\"similarity\", search_kwargs={\"k\": 6})\n",
        "\n",
        "retrieved_docs = retriever.invoke(\"Quando ocorre a progressão plena?\")\n",
        "\n",
        "len(retrieved_docs)"
      ],
      "metadata": {
        "colab": {
          "base_uri": "https://localhost:8080/"
        },
        "id": "mu98O_HSGXkD",
        "outputId": "0c0c770d-0f24-4d64-ede9-53cb933a115d"
      },
      "execution_count": null,
      "outputs": [
        {
          "output_type": "execute_result",
          "data": {
            "text/plain": [
              "6"
            ]
          },
          "metadata": {},
          "execution_count": 54
        }
      ]
    },
    {
      "cell_type": "code",
      "source": [
        "print(retrieved_docs[1].page_content)"
      ],
      "metadata": {
        "colab": {
          "base_uri": "https://localhost:8080/"
        },
        "id": "GiodXAKXGnht",
        "outputId": "6d760bb0-308b-4b6c-a995-acec5ed2e3df"
      },
      "execution_count": null,
      "outputs": [
        {
          "output_type": "stream",
          "name": "stdout",
          "text": [
            "no Projeto Político - Pedagógico, por unidades didáticas bimestrais, considerando os conteúdos curriculares definidos pela Secretaria de \n",
            "Educação e Esportes.\n",
            " Art. 4º Os critérios avaliativos deverão ser estabelecidos a partir dos conteúdos definidos pela Secretaria de Educação e Esportes para \n",
            "cada componente curricular, com base nas Orientações Teórico-Metodológicas - OTMs.\n",
            " Art. 5º O (a) estudante, ao longo da sua escolaridade, poderá obter progressão plena ou parcial:\n",
            " I - a progressão plena dar-se-á quando o (a) estudante atingir ao término do ano letivo ou após o período de recuperação final, nota \n",
            "igual ou superior a 6,0 (seis) em todos os componentes curriculares do (a) ano/série/ciclo/fase/módulo/ ano de escolaridade e frequência \n",
            "mínima de 75% (setenta e cinco por cento) do total das horas letivas do (a) ano/série/ciclo/fase/módulo/ano de escolaridade;\n"
          ]
        }
      ]
    },
    {
      "cell_type": "code",
      "source": [
        "from langchain_core.prompts import ChatPromptTemplate\n",
        "\n",
        "system_template = \"\"\"Você é um assistente para tarefas de perguntas e respostas. Use os seguintes trechos de contexto recuperados para responder à pergunta. Se você não souber a resposta, apenas diga que não sabe. Use no máximo duas frases e mantenha a resposta concisa e fale apenas o necessário.\n",
        "\n",
        "Pergunta: {question}\n",
        "\n",
        "Contexto: {context}\n",
        "\n",
        "Resposta:\n",
        "\"\"\"\n",
        "\n",
        "prompt_template = ChatPromptTemplate.from_template(system_template)"
      ],
      "metadata": {
        "id": "MqwacVucGyJe"
      },
      "execution_count": null,
      "outputs": []
    },
    {
      "cell_type": "code",
      "source": [
        "example_messages = prompt_template.invoke({\n",
        "    \"context\": \"algum contexto\",\n",
        "    \"question\": \"alguma pergunta\"\n",
        "})\n",
        "\n",
        "print(example_messages.to_messages())"
      ],
      "metadata": {
        "colab": {
          "base_uri": "https://localhost:8080/"
        },
        "id": "LHJUTjd_G1Mj",
        "outputId": "37c295e3-e945-44fb-e1dc-40b433988269"
      },
      "execution_count": null,
      "outputs": [
        {
          "output_type": "stream",
          "name": "stdout",
          "text": [
            "[HumanMessage(content='Você é um assistente para tarefas de perguntas e respostas. Use os seguintes trechos de contexto recuperados para responder à pergunta. Se você não souber a resposta, apenas diga que não sabe. Use no máximo duas frases e mantenha a resposta concisa e fale apenas o necessário.\\n\\nPergunta: alguma pergunta\\n\\nContexto: algum contexto\\n\\nResposta:\\n')]\n"
          ]
        }
      ]
    },
    {
      "cell_type": "code",
      "source": [
        "from langchain_openai import ChatOpenAI\n",
        "\n",
        "llm = ChatOpenAI(model=\"gpt-4o-mini\")"
      ],
      "metadata": {
        "id": "Zt9AY8jXG59y"
      },
      "execution_count": null,
      "outputs": []
    },
    {
      "cell_type": "code",
      "source": [
        "from langchain_core.output_parsers import StrOutputParser\n",
        "from langchain_core.runnables import RunnablePassthrough\n",
        "\n",
        "def format_docs(docs):\n",
        "    return \"\\n\\n\".join(doc.page_content for doc in docs)\n",
        "\n",
        "rag_chain = (\n",
        "    {\"context\": retriever | format_docs, \"question\": RunnablePassthrough()}\n",
        "    | prompt_template\n",
        "    | llm\n",
        "    | StrOutputParser()\n",
        ")"
      ],
      "metadata": {
        "id": "liDYs_tDG9eU"
      },
      "execution_count": null,
      "outputs": []
    },
    {
      "cell_type": "code",
      "source": [
        "for chunk in rag_chain.stream(\"Quando ocorre a progressão parcial?\"):\n",
        "    print(chunk, end=\"\", flush=True)"
      ],
      "metadata": {
        "colab": {
          "base_uri": "https://localhost:8080/"
        },
        "id": "M7G-7HgMNiyf",
        "outputId": "a8b6d30e-9339-4904-8c3f-1436e73c04d1"
      },
      "execution_count": 65,
      "outputs": [
        {
          "output_type": "stream",
          "name": "stdout",
          "text": [
            "A progressão parcial ocorre quando o estudante, após o período de recuperação final, não obtiver aprovação em até dois componentes curriculares e atende a certas condições estabelecidas pela escola. É um direito do estudante e pode ser aplicada em diversos anos e modalidades de ensino."
          ]
        }
      ]
    },
    {
      "cell_type": "code",
      "source": [
        "for chunk in rag_chain.stream(\"Como deve ser o registro de notas?\"):\n",
        "    print(chunk, end=\"\", flush=True)"
      ],
      "metadata": {
        "colab": {
          "base_uri": "https://localhost:8080/"
        },
        "id": "Q4sVG5YfIUcU",
        "outputId": "286e12de-0ffe-4720-f9d4-c83fcfe468b9"
      },
      "execution_count": null,
      "outputs": [
        {
          "output_type": "stream",
          "name": "stdout",
          "text": [
            "O registro de notas deve ser feito em uma escala de 0,0 a 10,0, mantendo até uma casa decimal, e deve ser concluído até cinco dias úteis após o término da unidade didática ou bimestre. O arredondamento das notas, quando necessário, será sempre por acréscimo."
          ]
        }
      ]
    },
    {
      "cell_type": "code",
      "source": [
        "for chunk in rag_chain.stream(\"Como é a avaliação bimestral?\"):\n",
        "    print(chunk, end=\"\", flush=True)"
      ],
      "metadata": {
        "colab": {
          "base_uri": "https://localhost:8080/"
        },
        "id": "UuWZCY0FMj5V",
        "outputId": "862688f3-5e54-4fb6-83ea-c0974398ae99"
      },
      "execution_count": 64,
      "outputs": [
        {
          "output_type": "stream",
          "name": "stdout",
          "text": [
            "A avaliação bimestral consiste em duas notas: a 1ª, que resulta de atividades diversas durante o bimestre, e a 2ª, que corresponde a uma avaliação individual no final do bimestre. A média é calculada somando as duas notas e dividindo por dois, sendo necessário alcançar no mínimo 6,0 para aprovação."
          ]
        }
      ]
    },
    {
      "cell_type": "code",
      "source": [
        "for chunk in rag_chain.stream(\"Quando ocorre a progressão plena?\"):\n",
        "    print(chunk, end=\"\", flush=True)"
      ],
      "metadata": {
        "colab": {
          "base_uri": "https://localhost:8080/"
        },
        "id": "GctDCAStHBho",
        "outputId": "9c2f2a5c-65ab-4f24-c5b7-e00c286da7d8"
      },
      "execution_count": null,
      "outputs": [
        {
          "output_type": "stream",
          "name": "stdout",
          "text": [
            "A progressão plena ocorre quando o estudante atinge, ao término do ano letivo ou após o período de recuperação final, nota igual ou superior a 6,0 em todos os componentes curriculares e frequência mínima de 75% das horas letivas."
          ]
        }
      ]
    },
    {
      "cell_type": "code",
      "source": [
        "for chunk in rag_chain.stream(\"Quantas são as chances de recuperar a progressão parcial?\"):\n",
        "    print(chunk, end=\"\", flush=True)"
      ],
      "metadata": {
        "colab": {
          "base_uri": "https://localhost:8080/"
        },
        "id": "1U55OxFgM2_O",
        "outputId": "3ea83e10-6b3a-4ce7-f297-57d5b8ce271b"
      },
      "execution_count": 66,
      "outputs": [
        {
          "output_type": "stream",
          "name": "stdout",
          "text": [
            "As chances de recuperar a progressão parcial ocorrem quando o estudante não obtiver aprovação em até dois componentes curriculares e atender as condições estabelecidas, como a frequência mínima de 75%. O estudante terá direito a, no mínimo, três oportunidades de reensino e avaliação no ano letivo subsequente."
          ]
        }
      ]
    }
  ],
  "metadata": {
    "kernelspec": {
      "display_name": "base",
      "language": "python",
      "name": "python3"
    },
    "language_info": {
      "codemirror_mode": {
        "name": "ipython",
        "version": 3
      },
      "file_extension": ".py",
      "mimetype": "text/x-python",
      "name": "python",
      "nbconvert_exporter": "python",
      "pygments_lexer": "ipython3",
      "version": "3.10.13"
    },
    "colab": {
      "provenance": [],
      "include_colab_link": true
    }
  },
  "nbformat": 4,
  "nbformat_minor": 0
}