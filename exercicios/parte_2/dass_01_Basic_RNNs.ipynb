{
  "cells": [
    {
      "cell_type": "markdown",
      "metadata": {
        "id": "view-in-github",
        "colab_type": "text"
      },
      "source": [
        "<a href=\"https://colab.research.google.com/github/davidsonsantana89/dass--CESAR_SCHOOL-Topicos_Contemporaneos/blob/main/exercicios/parte_2/dass_01_Basic_RNNs.ipynb\" target=\"_parent\"><img src=\"https://colab.research.google.com/assets/colab-badge.svg\" alt=\"Open In Colab\"/></a>"
      ]
    },
    {
      "cell_type": "markdown",
      "source": [
        "DAVIDSON ALVES SANTOS DE SANTANA\n",
        "\n",
        "dass@cesar.school"
      ],
      "metadata": {
        "id": "-SBSn5e7k0sI"
      }
    },
    {
      "cell_type": "markdown",
      "metadata": {
        "id": "1rZsfHmrtrrq"
      },
      "source": [
        "### **Redes Neurais Recorrentes (RNNs)**\n",
        "\n",
        "As Redes Neurais Recorrentes (RNNs) são um tipo de rede neural projetada para processar sequências de dados, como séries temporais ou textos. A principal característica das RNNs é a capacidade de manter um estado interno que captura informações sobre as entradas anteriores, permitindo que a rede tenha \"memória\" dos passos anteriores na sequência.\n",
        "\n",
        "A cada passo de tempo $t$, a RNN atualiza seu estado oculto $h_t$ com base na entrada atual $x_t$ e no estado oculto anterior $h_{t-1}$:\n",
        "\n",
        "$$\n",
        "h_t = \\tanh(W_{ih} \\cdot x_t + W_{hh} \\cdot h_{t-1} + b_h)\n",
        "$$\n",
        "\n",
        "Aqui:\n",
        "- $W_{ih}$ é a matriz de pesos que conecta a entrada ao estado oculto.\n",
        "- $W_{hh}$ é a matriz de pesos que conecta o estado oculto anterior ao atual.\n",
        "- $b_h$ é o termo de bias.\n",
        "- $\\tanh$ é a função de ativação que introduz não-linearidade."
      ]
    },
    {
      "cell_type": "code",
      "execution_count": 1,
      "metadata": {
        "id": "FntqMEeBtrrw"
      },
      "outputs": [],
      "source": [
        "import torch\n",
        "import torch.nn as nn\n",
        "import torch.optim as optim\n",
        "import numpy as np\n",
        "import matplotlib.pyplot as plt"
      ]
    },
    {
      "cell_type": "markdown",
      "metadata": {
        "id": "k7ClGAVHtrrx"
      },
      "source": [
        "### **Implementação de uma Célula RNN**\n",
        "\n",
        "Nesta seção, implementaremos uma célula RNN personalizada usando o PyTorch. A célula RNN é a unidade básica de uma RNN, responsável por calcular o novo estado oculto com base na entrada atual e no estado oculto anterior.\n",
        "\n",
        "#### **Explicação do Código**\n",
        "\n",
        "O código a seguir define uma célula RNN personalizada:\n",
        "\n",
        "- **Entrada:** O tamanho da entrada `input_size` e o tamanho do estado oculto `hidden_size`.\n",
        "- **Pesos:** $ W_{ih} $ e $ W_{hh} $ são as matrizes de pesos, e $ b_h $ é o bias.\n",
        "- **Saída:** A célula computa o novo estado oculto $ h_t $ a partir da entrada e do estado oculto anterior."
      ]
    },
    {
      "cell_type": "code",
      "execution_count": 2,
      "metadata": {
        "id": "v5V9tcJvtrry"
      },
      "outputs": [],
      "source": [
        "class RNNCell(nn.Module):\n",
        "    def __init__(self, input_size, hidden_size):\n",
        "        super().__init__()\n",
        "        self.input_size = input_size\n",
        "        self.hidden_size = hidden_size\n",
        "\n",
        "        self.W_ih = nn.Linear(input_size, hidden_size, bias=False) # Define a matriz de pesos de entrada\n",
        "        self.W_hh = nn.Linear(hidden_size, hidden_size, bias=False) # Define a matriz de pesos de saída\n",
        "        self.b_h = nn.Parameter(torch.zeros(hidden_size)) # Define o bias\n",
        "\n",
        "    def forward(self, x, h):\n",
        "        # x: (batch_size, input_size)\n",
        "        # h: (batch_size, hidden_size)\n",
        "        ht = torch.tanh(self.W_ih(x) + self.W_hh(h) + self.b_h)\n",
        "        return ht"
      ]
    },
    {
      "cell_type": "markdown",
      "metadata": {
        "id": "1A8ZXYpWtrry"
      },
      "source": [
        "### **Exemplo de Uso da Célula RNN**\n",
        "\n",
        "Inicialmente, definimos uma célula RNN com um tamanho de entrada de 10 e um tamanho de estado oculto de 4."
      ]
    },
    {
      "cell_type": "code",
      "execution_count": 3,
      "metadata": {
        "id": "v1tab-fxtrrz"
      },
      "outputs": [],
      "source": [
        "# Exemplo\n",
        "input_size = 10\n",
        "hidden_size = 4\n",
        "\n",
        "rnn_cell = RNNCell(input_size, hidden_size)"
      ]
    },
    {
      "cell_type": "markdown",
      "metadata": {
        "id": "ARn1w7qLtrrz"
      },
      "source": [
        "### **Inspeção dos Parâmetros da Célula RNN**\n",
        "\n",
        "Neste trecho de código, vamos inspecionar os parâmetros da célula RNN que acabamos de definir. Em uma rede neural, os parâmetros são os valores ajustáveis (como os pesos e bias) que a rede aprende durante o treinamento.\n",
        "\n",
        "Ao executar o código, veremos os nomes e as formas dos parâmetros:\n",
        "\n",
        "- **`W_ih`**: Matriz de pesos conectando a entrada ao estado oculto.\n",
        "- **`W_hh`**: Matriz de pesos conectando o estado oculto anterior ao atual.\n",
        "- **`b_h`**: Termo de bias para o estado oculto."
      ]
    },
    {
      "cell_type": "code",
      "execution_count": 5,
      "metadata": {
        "id": "keVJ0yfBtrr0",
        "outputId": "8de0b2f1-614f-44c0-9be2-7b2e34e7a786",
        "colab": {
          "base_uri": "https://localhost:8080/"
        }
      },
      "outputs": [
        {
          "output_type": "stream",
          "name": "stdout",
          "text": [
            "b_h torch.Size([4])\n",
            "W_ih.weight torch.Size([4, 10])\n",
            "W_hh.weight torch.Size([4, 4])\n"
          ]
        }
      ],
      "source": [
        "for name, param in rnn_cell.named_parameters():\n",
        "    print(name, param.shape)"
      ]
    },
    {
      "cell_type": "markdown",
      "metadata": {
        "id": "DyTr8hJ_trr1"
      },
      "source": [
        "#### **Explicação do Código**\n",
        "\n",
        "No exemplo abaixo:\n",
        "- Inicializamos uma entrada $x$ aleatória e um estado oculto inicial $h$ como zero.\n",
        "- A célula RNN processa a entrada e gera um novo estado oculto."
      ]
    },
    {
      "cell_type": "code",
      "execution_count": 6,
      "metadata": {
        "id": "-uiAKnwHtrr2",
        "outputId": "bbf94312-94e0-4ab5-c54a-74c021ed316d",
        "colab": {
          "base_uri": "https://localhost:8080/"
        }
      },
      "outputs": [
        {
          "output_type": "execute_result",
          "data": {
            "text/plain": [
              "torch.Size([4])"
            ]
          },
          "metadata": {},
          "execution_count": 6
        }
      ],
      "source": [
        "x = torch.randn(input_size)\n",
        "h = torch.zeros(hidden_size)\n",
        "\n",
        "hn = rnn_cell(x, h)\n",
        "\n",
        "hn.shape"
      ]
    },
    {
      "cell_type": "code",
      "source": [
        "x, h"
      ],
      "metadata": {
        "colab": {
          "base_uri": "https://localhost:8080/"
        },
        "id": "usHxpTtQvfvI",
        "outputId": "1575b67b-1255-41a4-c62a-39678309fa24"
      },
      "execution_count": 7,
      "outputs": [
        {
          "output_type": "execute_result",
          "data": {
            "text/plain": [
              "(tensor([ 9.8001e-01,  1.6079e-01,  6.1289e-01, -5.5157e-01,  1.2041e+00,\n",
              "         -8.5531e-01, -1.6925e+00, -6.5582e-04, -3.4141e-01, -1.5762e+00]),\n",
              " tensor([0., 0., 0., 0.]))"
            ]
          },
          "metadata": {},
          "execution_count": 7
        }
      ]
    },
    {
      "cell_type": "code",
      "source": [
        "hn"
      ],
      "metadata": {
        "colab": {
          "base_uri": "https://localhost:8080/"
        },
        "id": "zuJLjCZzvtaR",
        "outputId": "8bce1777-0abb-4b4c-c5a8-675b9a5d97db"
      },
      "execution_count": 10,
      "outputs": [
        {
          "output_type": "execute_result",
          "data": {
            "text/plain": [
              "tensor([-0.4316,  0.3715,  0.0059, -0.4030], grad_fn=<TanhBackward0>)"
            ]
          },
          "metadata": {},
          "execution_count": 10
        }
      ]
    },
    {
      "cell_type": "markdown",
      "metadata": {
        "id": "Q97PRGjqtrr2"
      },
      "source": [
        "### **Processamento de Sequências com RNN**\n",
        "\n",
        "RNNs são projetadas para processar sequências de dados, onde cada passo de tempo depende dos passos anteriores. Vamos demonstrar isso processando uma sequência de entradas com a célula RNN.\n",
        "\n",
        "#### **Explicação do Código**\n",
        "\n",
        "Neste exemplo:\n",
        "- Processamos uma sequência de 3 entradas $x$ e atualizamos o estado oculto $h$ a cada passo.\n",
        "- O estado oculto é propagado ao longo da sequência, capturando informações temporais."
      ]
    },
    {
      "cell_type": "code",
      "execution_count": 8,
      "metadata": {
        "id": "fRK5PcJutrr3",
        "outputId": "714af4b8-3f2a-44fe-a936-edc0656a1415",
        "colab": {
          "base_uri": "https://localhost:8080/"
        }
      },
      "outputs": [
        {
          "output_type": "stream",
          "name": "stdout",
          "text": [
            "Passo 1\n",
            "h = tensor([-0.6915,  0.8814, -0.0922, -0.5091], grad_fn=<TanhBackward0>)\n",
            "\n",
            "Passo 2\n",
            "h = tensor([-0.5392, -0.7903,  0.9568, -0.3416], grad_fn=<TanhBackward0>)\n",
            "\n",
            "Passo 3\n",
            "h = tensor([ 0.4511, -0.0818, -0.5348,  0.4196], grad_fn=<TanhBackward0>)\n",
            "\n"
          ]
        }
      ],
      "source": [
        "# Sequences\n",
        "seq_len = 3\n",
        "\n",
        "x = torch.randn(seq_len, input_size)\n",
        "h = torch.zeros(hidden_size)\n",
        "\n",
        "# Para cada instante de tempo\n",
        "for i in range(seq_len):\n",
        "    # Atualiza o estado oculto\n",
        "    h = rnn_cell(x[i], h)\n",
        "    print(f\"Passo {i+1}\")\n",
        "    print(f\"h = {h}\")\n",
        "    print()"
      ]
    },
    {
      "cell_type": "markdown",
      "metadata": {
        "id": "0858i4VYtrr3"
      },
      "source": [
        "### **Processamento de Sequências em Lote (Batched RNN)**\n",
        "\n",
        "Para aumentar a eficiência, as RNNs podem processar várias sequências simultaneamente, usando o conceito de \"batching\". Cada sequência no lote é processada de forma independente, mas compartilhando os mesmos pesos da RNN.\n",
        "\n",
        "#### **Explicação do Código**\n",
        "\n",
        "Neste exemplo:\n",
        "- Criamos um batch de 8 sequências, cada uma com 10 entradas.\n",
        "- A célula RNN é aplicada ao batch, atualizando o estado oculto para cada sequência de forma paralela."
      ]
    },
    {
      "cell_type": "code",
      "execution_count": 9,
      "metadata": {
        "id": "e-58IHbGtrr3",
        "outputId": "b7d82afa-c72d-4c89-84b4-f79ebd14b923",
        "colab": {
          "base_uri": "https://localhost:8080/"
        }
      },
      "outputs": [
        {
          "output_type": "execute_result",
          "data": {
            "text/plain": [
              "torch.Size([8, 4])"
            ]
          },
          "metadata": {},
          "execution_count": 9
        }
      ],
      "source": [
        "# Batched RNN\n",
        "batch_size = 8\n",
        "\n",
        "x = torch.randn(batch_size, input_size)\n",
        "h = torch.zeros(batch_size, hidden_size)\n",
        "\n",
        "hn = rnn_cell(x, h)\n",
        "\n",
        "hn.shape"
      ]
    },
    {
      "cell_type": "markdown",
      "metadata": {
        "id": "jZUTofmLtrr4"
      },
      "source": [
        "### **Processamento de Sequências em Lote com Múltiplos Passos de Tempo**\n",
        "\n",
        "Aqui, processamos um batch de sequências ao longo de vários passos de tempo.\n",
        "\n",
        "#### **Explicação do Código**\n",
        "\n",
        "Neste exemplo:\n",
        "- Processamos um lote de 8 sequências, cada uma com 3 passos de tempo.\n",
        "- Em cada passo de tempo, a célula RNN atualiza o estado oculto para todas as sequências do lote."
      ]
    },
    {
      "cell_type": "code",
      "execution_count": 11,
      "metadata": {
        "id": "LgbiUdTHtrr4",
        "outputId": "aa98039b-2594-4ac6-b7d1-9b7faa63b3fe",
        "colab": {
          "base_uri": "https://localhost:8080/"
        }
      },
      "outputs": [
        {
          "output_type": "stream",
          "name": "stdout",
          "text": [
            "Passo 0\n",
            "h = torch.Size([8, 4])\n",
            "\n",
            "Passo 1\n",
            "h = torch.Size([8, 4])\n",
            "\n",
            "Passo 2\n",
            "h = torch.Size([8, 4])\n",
            "\n"
          ]
        }
      ],
      "source": [
        "# Sequences\n",
        "seq_len = 3\n",
        "\n",
        "x = torch.randn(batch_size, seq_len, input_size)\n",
        "h = torch.zeros(batch_size, hidden_size)\n",
        "\n",
        "# Para cada instante de tempo\n",
        "for i in range(seq_len):\n",
        "    # Atualiza o estado oculto\n",
        "    h = rnn_cell(x[:, i], h)\n",
        "    print(f\"Passo {i}\")\n",
        "    print(f\"h = {h.shape}\")\n",
        "    print()"
      ]
    },
    {
      "cell_type": "markdown",
      "metadata": {
        "id": "TbQ67u8Ntrr4"
      },
      "source": [
        "### **Construção de uma Rede RNN Completa**\n",
        "\n",
        "Vamos expandir a célula RNN que criamos anteriormente para uma rede RNN completa. A rede RNN será composta por uma célula RNN seguida por uma camada linear que produzirá a saída final.\n",
        "\n",
        "#### **Explicação do Código**\n",
        "\n",
        "- **`self.cell`**: Instância da célula RNN que processará cada passo da sequência.\n",
        "- **`self.W_ho`**: Camada linear que mapeia o estado oculto final para a saída desejada.\n",
        "\n",
        "No método `forward`:\n",
        "- **Entrada (`x`)**: Um tensor de forma `(batch_size, seq_len, input_size)`, onde `seq_len` é o comprimento da sequência.\n",
        "- **Estado oculto (`h`)**: Se não for fornecido, é inicializado como um vetor de zeros.\n",
        "- **Processamento da sequência**: A entrada é processada passo a passo pela célula RNN.\n",
        "- **Saída (`y`)**: Calculada pela camada linear a partir do estado oculto final."
      ]
    },
    {
      "cell_type": "code",
      "execution_count": 30,
      "metadata": {
        "id": "-G0SBZZbtrr4"
      },
      "outputs": [],
      "source": [
        "class RNN(nn.Module):\n",
        "    def __init__(self, input_size, hidden_size, output_size):\n",
        "        super().__init__()\n",
        "        self.input_size = input_size\n",
        "        self.hidden_size = hidden_size\n",
        "        self.output_size = output_size\n",
        "\n",
        "        self.cell = RNNCell(input_size, hidden_size) # Define a célula RNN\n",
        "        self.W_ho = nn.Linear(hidden_size, output_size) # Define a matriz de pesos de saída\n",
        "\n",
        "    def forward(self, x, h=None):\n",
        "        # x: (batch_size, seq_len, input_size)\n",
        "        batch_size, seq_len, _ = x.size()\n",
        "\n",
        "        # h: (batch_size, hidden_size)\n",
        "        if h is None:\n",
        "            h = torch.zeros(batch_size, self.hidden_size)\n",
        "        h = h.to(x.device)\n",
        "\n",
        "        # Processa a sequência\n",
        "        for i in range(seq_len):\n",
        "            h = self.cell(x[:, i], h)\n",
        "\n",
        "        # Calcula a saída\n",
        "        y = self.W_ho(h)\n",
        "        return y"
      ]
    },
    {
      "cell_type": "markdown",
      "metadata": {
        "id": "c_LhfgvHtrr5"
      },
      "source": [
        "### **Geração de Dados para Treinamento**\n",
        "\n",
        "Para treinar a RNN, precisamos de um conjunto de dados sequenciais. Neste exemplo, geramos uma série temporal baseada em uma função senoide com ruído adicionado.\n",
        "\n",
        "#### **Explicação do Código**\n",
        "\n",
        "- **`x`**: Sequência de pontos no intervalo $[0, 6\\pi]$.\n",
        "- **`y`**: Valores da função senoide com ruído gaussiano adicionado."
      ]
    },
    {
      "cell_type": "code",
      "execution_count": 31,
      "metadata": {
        "id": "YRA9wjOitrr5",
        "outputId": "165f4672-cfda-4026-a9cd-ac2064930f9a",
        "colab": {
          "base_uri": "https://localhost:8080/",
          "height": 430
        }
      },
      "outputs": [
        {
          "output_type": "display_data",
          "data": {
            "text/plain": [
              "<Figure size 640x480 with 1 Axes>"
            ],
            "image/png": "[encoded data removed]"
          },
          "metadata": {}
        }
      ],
      "source": [
        "num_points = 100\n",
        "\n",
        "x = np.linspace(0, 6*np.pi, num_points)\n",
        "y = np.sin(x) + np.random.normal(0, 0.3, num_points)\n",
        "\n",
        "plt.scatter(x, y)\n",
        "plt.show()"
      ]
    },
    {
      "cell_type": "markdown",
      "metadata": {
        "id": "VjLckO_atrr5"
      },
      "source": [
        "### **Preparação das Sequências de Treinamento**\n",
        "\n",
        "Agora, preparamos as entradas e as saídas alvo para o treinamento da RNN. Cada sequência de entrada será usada para prever o próximo ponto na série temporal.\n",
        "\n",
        "#### **Explicação do Código**\n",
        "\n",
        "- **`sequence_length`**: O comprimento da janela da sequência usada como entrada.\n",
        "- **`inputs`**: Sequências de tamanho `sequence_length` extraídas dos dados.\n",
        "- **`targets`**: O ponto subsequente na sequência que a rede deve prever.\n",
        "- **Tensorização**: As sequências são convertidas em tensores PyTorch para uso na rede neural."
      ]
    },
    {
      "cell_type": "code",
      "execution_count": 32,
      "metadata": {
        "id": "WVcym6cmtrr5"
      },
      "outputs": [],
      "source": [
        "sequence_length = 20\n",
        "batch_size = num_points - sequence_length\n",
        "inputs = []\n",
        "targets = []\n",
        "\n",
        "for i in range(num_points - sequence_length):\n",
        "    inputs.append(y[i:i+sequence_length])\n",
        "    targets.append(y[i+sequence_length])\n",
        "\n",
        "inputs = torch.tensor(inputs, dtype=torch.float32).unsqueeze(-1)  # Shape: (batch_size, window_size, 1)\n",
        "targets = torch.tensor(targets, dtype=torch.float32).unsqueeze(-1)  # Shape: (batch_size, 1)"
      ]
    },
    {
      "cell_type": "code",
      "source": [
        "inputs[0], targets[0]"
      ],
      "metadata": {
        "colab": {
          "base_uri": "https://localhost:8080/"
        },
        "id": "pvET1RQTciPa",
        "outputId": "c1a55b01-6037-4753-c459-89862c6615f5"
      },
      "execution_count": 20,
      "outputs": [
        {
          "output_type": "execute_result",
          "data": {
            "text/plain": [
              "(tensor([[ 0.0377],\n",
              "         [ 0.8434],\n",
              "         [ 0.0891],\n",
              "         [ 0.4492],\n",
              "         [ 0.8418],\n",
              "         [ 0.4941],\n",
              "         [ 1.2685],\n",
              "         [ 1.3961],\n",
              "         [ 1.0628],\n",
              "         [ 0.9646],\n",
              "         [ 1.3072],\n",
              "         [ 0.3135],\n",
              "         [ 1.0364],\n",
              "         [ 0.0621],\n",
              "         [ 0.8696],\n",
              "         [ 0.4656],\n",
              "         [ 0.2713],\n",
              "         [-0.1210],\n",
              "         [-0.1793],\n",
              "         [-0.5022]]),\n",
              " tensor([-0.3591]))"
            ]
          },
          "metadata": {},
          "execution_count": 20
        }
      ]
    },
    {
      "cell_type": "code",
      "source": [
        "y[:21]"
      ],
      "metadata": {
        "colab": {
          "base_uri": "https://localhost:8080/"
        },
        "id": "UYtz-NjHyy74",
        "outputId": "95100b11-fcef-4df3-8b10-94d4494f4ed1"
      },
      "execution_count": 21,
      "outputs": [
        {
          "output_type": "execute_result",
          "data": {
            "text/plain": [
              "array([ 0.03772965,  0.84336707,  0.08909964,  0.44915644,  0.84184075,\n",
              "        0.49410201,  1.26851969,  1.39610941,  1.06277509,  0.96464435,\n",
              "        1.30717283,  0.31354654,  1.03637153,  0.06207781,  0.86957827,\n",
              "        0.46559498,  0.27126949, -0.12102996, -0.17926482, -0.5022332 ,\n",
              "       -0.35908366])"
            ]
          },
          "metadata": {},
          "execution_count": 21
        }
      ]
    },
    {
      "cell_type": "code",
      "source": [
        "inputs, targets"
      ],
      "metadata": {
        "colab": {
          "base_uri": "https://localhost:8080/"
        },
        "id": "V1eFL9Xny2Ou",
        "outputId": "b5713e57-649a-4383-854b-eb72fe47c57d"
      },
      "execution_count": 18,
      "outputs": [
        {
          "output_type": "execute_result",
          "data": {
            "text/plain": [
              "(tensor([[[ 0.0377],\n",
              "          [ 0.8434],\n",
              "          [ 0.0891],\n",
              "          ...,\n",
              "          [-0.1210],\n",
              "          [-0.1793],\n",
              "          [-0.5022]],\n",
              " \n",
              "         [[ 0.8434],\n",
              "          [ 0.0891],\n",
              "          [ 0.4492],\n",
              "          ...,\n",
              "          [-0.1793],\n",
              "          [-0.5022],\n",
              "          [-0.3591]],\n",
              " \n",
              "         [[ 0.0891],\n",
              "          [ 0.4492],\n",
              "          [ 0.8418],\n",
              "          ...,\n",
              "          [-0.5022],\n",
              "          [-0.3591],\n",
              "          [-0.6147]],\n",
              " \n",
              "         ...,\n",
              " \n",
              "         [[ 0.6930],\n",
              "          [ 0.8004],\n",
              "          [ 0.5635],\n",
              "          ...,\n",
              "          [-0.6285],\n",
              "          [-0.5315],\n",
              "          [-0.7494]],\n",
              " \n",
              "         [[ 0.8004],\n",
              "          [ 0.5635],\n",
              "          [ 0.6245],\n",
              "          ...,\n",
              "          [-0.5315],\n",
              "          [-0.7494],\n",
              "          [-0.5993]],\n",
              " \n",
              "         [[ 0.5635],\n",
              "          [ 0.6245],\n",
              "          [ 0.0886],\n",
              "          ...,\n",
              "          [-0.7494],\n",
              "          [-0.5993],\n",
              "          [ 0.2233]]]),\n",
              " tensor([[-0.3591],\n",
              "         [-0.6147],\n",
              "         [-1.3646],\n",
              "         [-0.4634],\n",
              "         [-0.6514],\n",
              "         [-1.4277],\n",
              "         [-0.9887],\n",
              "         [-0.5391],\n",
              "         [-0.4108],\n",
              "         [-0.3276],\n",
              "         [-0.3432],\n",
              "         [-0.4419],\n",
              "         [ 0.2331],\n",
              "         [ 0.0974],\n",
              "         [ 0.1285],\n",
              "         [ 0.6174],\n",
              "         [ 0.8301],\n",
              "         [ 1.0624],\n",
              "         [ 0.8387],\n",
              "         [ 1.2721],\n",
              "         [ 1.0398],\n",
              "         [ 0.7387],\n",
              "         [ 1.1922],\n",
              "         [ 0.5651],\n",
              "         [ 0.6209],\n",
              "         [ 1.1272],\n",
              "         [ 0.9428],\n",
              "         [ 0.5754],\n",
              "         [ 0.0137],\n",
              "         [ 0.6676],\n",
              "         [-0.4558],\n",
              "         [-0.4589],\n",
              "         [-0.6170],\n",
              "         [-0.5493],\n",
              "         [-0.8873],\n",
              "         [-1.1868],\n",
              "         [-1.0885],\n",
              "         [-1.0878],\n",
              "         [-1.2584],\n",
              "         [-1.2893],\n",
              "         [-0.8977],\n",
              "         [-1.2296],\n",
              "         [-0.5857],\n",
              "         [-0.6613],\n",
              "         [-0.0811],\n",
              "         [-0.2438],\n",
              "         [ 0.1148],\n",
              "         [ 0.6401],\n",
              "         [ 0.5315],\n",
              "         [-0.2717],\n",
              "         [ 0.3269],\n",
              "         [ 0.3033],\n",
              "         [ 0.7789],\n",
              "         [ 1.5131],\n",
              "         [ 1.2016],\n",
              "         [ 0.7865],\n",
              "         [ 0.9721],\n",
              "         [ 0.6930],\n",
              "         [ 0.8004],\n",
              "         [ 0.5635],\n",
              "         [ 0.6245],\n",
              "         [ 0.0886],\n",
              "         [ 0.2695],\n",
              "         [-0.1567],\n",
              "         [-0.5290],\n",
              "         [-0.1973],\n",
              "         [-0.8369],\n",
              "         [-0.6972],\n",
              "         [-0.8701],\n",
              "         [-0.6415],\n",
              "         [-1.1761],\n",
              "         [-1.1593],\n",
              "         [-0.8915],\n",
              "         [-0.4568],\n",
              "         [-0.6285],\n",
              "         [-0.5315],\n",
              "         [-0.7494],\n",
              "         [-0.5993],\n",
              "         [ 0.2233],\n",
              "         [ 0.2481]]))"
            ]
          },
          "metadata": {},
          "execution_count": 18
        }
      ]
    },
    {
      "cell_type": "markdown",
      "metadata": {
        "id": "KQZwIo1htrr5"
      },
      "source": [
        "### **Inicialização da Rede RNN e do Otimizador**\n",
        "\n",
        "Nesta seção, instanciamos a rede RNN com os tamanhos de entrada, estado oculto, e saída definidos. Também configuramos o critério de perda e o otimizador.\n",
        "\n",
        "#### **Explicação do Código**\n",
        "\n",
        "- **`input_size`**: Dimensão da entrada (1, já que estamos lidando com uma série temporal univariada).\n",
        "- **`hidden_size`**: Número de unidades no estado oculto.\n",
        "- **`output_size`**: Dimensão da saída (1, pois queremos prever um único valor por vez)."
      ]
    },
    {
      "cell_type": "code",
      "execution_count": 41,
      "metadata": {
        "id": "W9UksWjDtrr6"
      },
      "outputs": [],
      "source": [
        "input_size = 1\n",
        "hidden_size = 8\n",
        "output_size = 1\n",
        "\n",
        "rnn = RNN(input_size, hidden_size, output_size)"
      ]
    },
    {
      "cell_type": "code",
      "execution_count": 42,
      "metadata": {
        "id": "zUFJsVFstrr6"
      },
      "outputs": [],
      "source": [
        "criterion = nn.MSELoss()\n",
        "optimizer = optim.Adam(rnn.parameters(), lr=0.01)"
      ]
    },
    {
      "cell_type": "code",
      "execution_count": 43,
      "metadata": {
        "id": "Mcm4r5intrr6",
        "outputId": "200135ed-5b3a-45e2-d25e-2984c2f7ed73",
        "colab": {
          "base_uri": "https://localhost:8080/"
        }
      },
      "outputs": [
        {
          "output_type": "stream",
          "name": "stdout",
          "text": [
            "Epoch 0, Loss: 0.9696609377861023\n",
            "Epoch 50, Loss: 0.1401486098766327\n",
            "Epoch 100, Loss: 0.0870169997215271\n",
            "Epoch 150, Loss: 0.0789516493678093\n",
            "Epoch 200, Loss: 0.06692132353782654\n",
            "Epoch 250, Loss: 0.05895121768116951\n",
            "Epoch 300, Loss: 0.05639534443616867\n",
            "Epoch 350, Loss: 0.049288369715213776\n",
            "Epoch 400, Loss: 0.03792494535446167\n",
            "Epoch 450, Loss: 0.03214425593614578\n"
          ]
        }
      ],
      "source": [
        "# Treinamento\n",
        "num_epochs = 500\n",
        "for epoch in range(num_epochs):\n",
        "    optimizer.zero_grad()\n",
        "\n",
        "    predictions = rnn(inputs)\n",
        "    loss = criterion(predictions, targets)\n",
        "    loss.backward()\n",
        "    optimizer.step()\n",
        "\n",
        "    if epoch % 50 == 0:\n",
        "        print(f'Epoch {epoch}, Loss: {loss.item()}')"
      ]
    },
    {
      "cell_type": "markdown",
      "metadata": {
        "id": "IHriCIcitrr7"
      },
      "source": [
        "### **Geração de Predições com a Rede Treinada**\n",
        "\n",
        "Após o treinamento, usamos a RNN para gerar previsões de uma nova série temporal. A ideia é prever a continuação da senoide a partir de uma sequência inicial.\n",
        "\n",
        "#### **Explicação do Código**\n",
        "\n",
        "- **`predicted_wave`**: Lista para armazenar as predições feitas pela RNN.\n",
        "- **`input_seq`**: Sequência inicial usada para começar a predição.\n",
        "- **Passos de predição**:\n",
        "  - A cada passo, a rede faz uma nova predição que é adicionada à sequência de entrada.\n",
        "  - A janela de entrada é atualizada para incluir a nova predição e excluir o ponto mais antigo."
      ]
    },
    {
      "cell_type": "code",
      "execution_count": 57,
      "metadata": {
        "id": "xLJ-0SGrtrr9",
        "outputId": "d0241886-2050-42da-e6c5-fedcd969d948",
        "colab": {
          "base_uri": "https://localhost:8080/",
          "height": 430
        }
      },
      "outputs": [
        {
          "output_type": "display_data",
          "data": {
            "text/plain": [
              "<Figure size 640x480 with 1 Axes>"
            ],
            "image/png": "[encoded data removed]"
          },
          "metadata": {}
        }
      ],
      "source": [
        "# Gerando predições para uma senoide\n",
        "predicted_wave = []\n",
        "\n",
        "input_seq = y[:sequence_length].reshape(1, sequence_length, 1)\n",
        "input_seq = torch.tensor(input_seq, dtype=torch.float32)\n",
        "\n",
        "for _ in range(num_points - sequence_length):\n",
        "    predicted_next = rnn(input_seq)\n",
        "    predicted_wave.append(predicted_next.item())\n",
        "\n",
        "    # Arrasta a janela de entrada\n",
        "    predicted_next = predicted_next.view(1, 1, 1)  # Reshape para (1, 1, 1)\n",
        "    input_seq = torch.cat([input_seq[:, 1:, :], predicted_next], dim=1) # Remove o primeiro elemento e adiciona a predição\n",
        "\n",
        "# Plota a senoide original e a predição\n",
        "plt.scatter(x, y, label='Original')\n",
        "plt.scatter(x[sequence_length:], predicted_wave, label='Predito', linestyle='dashed')\n",
        "plt.legend()\n",
        "plt.show()"
      ]
    },
    {
      "cell_type": "markdown",
      "metadata": {
        "id": "Mm_5zbw8trr-"
      },
      "source": [
        "## **Exercícios**\n",
        "\n",
        "### **Exercício 1: Aumentando o Tamanho do Estado Oculto**\n",
        "\n",
        "1. Aumente o tamanho do estado oculto (`hidden_size`) na rede RNN.\n",
        "2. Treine a rede novamente com os mesmos dados de entrada.\n",
        "3. Compare a perda final e as predições da rede com o modelo original.\n",
        "4. Pergunta: Como o aumento do tamanho do estado oculto afetou o desempenho da rede?\n",
        "\n"
      ]
    },
    {
      "cell_type": "code",
      "source": [
        "num_points = 100\n",
        "\n",
        "x = np.linspace(0, 6*np.pi, num_points)\n",
        "y = np.sin(x) + np.random.normal(0, 0.7, num_points)\n",
        "\n",
        "\n",
        "input_size = 1\n",
        "hidden_size = 64\n",
        "output_size = 1\n",
        "\n",
        "rnn = RNN(input_size, hidden_size, output_size)\n",
        "\n",
        "\n",
        "criterion = nn.MSELoss()\n",
        "optimizer = optim.Adam(rnn.parameters(), lr=0.01)\n",
        "\n",
        "\n",
        "# Treinamento\n",
        "num_epochs = 500\n",
        "for epoch in range(num_epochs):\n",
        "    optimizer.zero_grad()\n",
        "\n",
        "    predictions = rnn(inputs)\n",
        "    loss = criterion(predictions, targets)\n",
        "    loss.backward()\n",
        "    optimizer.step()\n",
        "\n",
        "    if epoch % 50 == 0:\n",
        "        print(f'Epoch {epoch}, Loss: {loss.item()}')\n",
        "\n",
        "print()\n",
        "\n",
        "# Gerando predições para uma senoide\n",
        "predicted_wave = []\n",
        "\n",
        "input_seq = y[:sequence_length].reshape(1, sequence_length, 1)\n",
        "input_seq = torch.tensor(input_seq, dtype=torch.float32)\n",
        "\n",
        "for _ in range(num_points - sequence_length):\n",
        "    predicted_next = rnn(input_seq)\n",
        "    predicted_wave.append(predicted_next.item())\n",
        "\n",
        "    # Arrasta a janela de entrada\n",
        "    predicted_next = predicted_next.view(1, 1, 1)  # Reshape para (1, 1, 1)\n",
        "    input_seq = torch.cat([input_seq[:, 1:, :], predicted_next], dim=1) # Remove o primeiro elemento e adiciona a predição\n",
        "\n",
        "# Plota a senoide original e a predição\n",
        "plt.scatter(x, y, label='Original')\n",
        "plt.scatter(x[sequence_length:], predicted_wave, label='Predito', linestyle='dashed')\n",
        "plt.legend()\n",
        "plt.show()"
      ],
      "metadata": {
        "id": "7CbryWjlzrq9",
        "colab": {
          "base_uri": "https://localhost:8080/",
          "height": 621
        },
        "outputId": "4c5c6cd7-c983-4187-b4c7-8a60a3a6a72b"
      },
      "execution_count": 67,
      "outputs": [
        {
          "output_type": "stream",
          "name": "stdout",
          "text": [
            "Epoch 0, Loss: 0.5964575409889221\n",
            "Epoch 50, Loss: 0.06391863524913788\n",
            "Epoch 100, Loss: 0.02347095124423504\n",
            "Epoch 150, Loss: 0.008700961247086525\n",
            "Epoch 200, Loss: 0.00020301206677686423\n",
            "Epoch 250, Loss: 0.00013207781012170017\n",
            "Epoch 300, Loss: 2.8246528017916717e-05\n",
            "Epoch 350, Loss: 2.4447211899314425e-07\n",
            "Epoch 400, Loss: 3.455491726089832e-10\n",
            "Epoch 450, Loss: 1.2816150918304459e-11\n",
            "\n"
          ]
        },
        {
          "output_type": "display_data",
          "data": {
            "text/plain": [
              "<Figure size 640x480 with 1 Axes>"
            ],
            "image/png": "[encoded data removed]"
          },
          "metadata": {}
        }
      ]
    },
    {
      "cell_type": "markdown",
      "source": [
        "O aumento no estado oculto fez com que os dados preditos ficassam muito próximos dos dados originais."
      ],
      "metadata": {
        "id": "slaIY7yeez_H"
      }
    },
    {
      "cell_type": "markdown",
      "metadata": {
        "id": "Qq9mCBtbzgkh"
      },
      "source": [
        "\n",
        "### **Exercício 2: Predição de Longo Prazo**\n",
        "\n",
        "1. Use a RNN treinada para prever 100 pontos futuros da senoide a partir de uma nova sequência inicial de 20 pontos.\n",
        "2. Aumente o número de camadas ocultas e tente novamente.\n",
        "2. Compare as predições com a senoide original.\n",
        "3. Pergunta: A rede consegue manter a forma da senoide por um longo período de predição? O que acontece com as predições ao longo do tempo?\n",
        "\n"
      ]
    },
    {
      "cell_type": "code",
      "source": [
        "num_points = 100\n",
        "\n",
        "x = np.linspace(0, 6*np.pi, num_points)\n",
        "y = np.sin(x) + np.random.normal(0, 0.3, num_points)\n",
        "\n",
        "num_future_points = 100\n",
        "\n",
        "# Sequência inicial para iniciar as predições\n",
        "input_seq = y[:sequence_length].reshape(1, sequence_length, 1)\n",
        "input_seq = torch.tensor(input_seq, dtype=torch.float32)\n",
        "\n",
        "# Gerando predições para uma senoide\n",
        "predicted_wave = []\n",
        "\n",
        "for _ in range(num_future_points):\n",
        "    predicted_next = rnn(input_seq)\n",
        "    predicted_wave.append(predicted_next.item())\n",
        "\n",
        "    # Arrasta a janela de entrada\n",
        "    predicted_next = predicted_next.view(1, 1, 1)  # Reshape para (1, 1, 1)\n",
        "    input_seq = torch.cat([input_seq[:, 1:, :], predicted_next], dim=1) # Remove o primeiro elemento e adiciona a predição\n",
        "\n",
        "# Gerar valores de x para as predições, continuando de onde o x original parou\n",
        "x_pred = np.linspace(x[-1], x[-1] + (x[-1] - x[0]) * num_future_points, num_future_points)\n",
        "\n",
        "# Plota a senoide original e a predição\n",
        "plt.scatter(x, y, label='Original')\n",
        "plt.scatter(x_pred, predicted_wave, label='Predito', linestyle='dashed')\n",
        "plt.legend()\n",
        "plt.show()"
      ],
      "metadata": {
        "id": "BB-bKKOizsKu",
        "colab": {
          "base_uri": "https://localhost:8080/",
          "height": 430
        },
        "outputId": "219844c3-4e7b-4d49-df40-875de49f6c6f"
      },
      "execution_count": 66,
      "outputs": [
        {
          "output_type": "display_data",
          "data": {
            "text/plain": [
              "<Figure size 640x480 with 1 Axes>"
            ],
            "image/png": "[encoded data removed]"
          },
          "metadata": {}
        }
      ]
    },
    {
      "cell_type": "markdown",
      "metadata": {
        "id": "9GIYUwopzhNl"
      },
      "source": [
        "\n",
        "\n",
        "### **Exercício 3: Adicionando Ruído**\n",
        "\n",
        "1. Adicione um ruído gaussiano mais forte à série temporal original (aumente a variância do ruído).\n",
        "2. Treine a RNN com essa série temporal ruidosa.\n",
        "3. Compare as predições com o modelo treinado com menos ruído.\n",
        "4. Pergunta: Como o aumento do ruído nos dados de entrada impacta a capacidade da RNN de prever corretamente a série temporal?"
      ]
    },
    {
      "cell_type": "code",
      "source": [
        "num_points = 100\n",
        "\n",
        "x = np.linspace(0, 6*np.pi, num_points)\n",
        "y = np.sin(x) + np.random.normal(0, 0.85, num_points)\n",
        "\n",
        "# plt.scatter(x, y)\n",
        "# plt.show()\n",
        "\n",
        "\n",
        "\n",
        "input_size = 1\n",
        "hidden_size = 8\n",
        "output_size = 1\n",
        "\n",
        "rnn = RNN(input_size, hidden_size, output_size)\n",
        "\n",
        "\n",
        "criterion = nn.MSELoss()\n",
        "optimizer = optim.Adam(rnn.parameters(), lr=0.01)\n",
        "\n",
        "\n",
        "# Treinamento\n",
        "num_epochs = 500\n",
        "for epoch in range(num_epochs):\n",
        "    optimizer.zero_grad()\n",
        "\n",
        "    predictions = rnn(inputs)\n",
        "    loss = criterion(predictions, targets)\n",
        "    loss.backward()\n",
        "    optimizer.step()\n",
        "\n",
        "    if epoch % 50 == 0:\n",
        "        print(f'Epoch {epoch}, Loss: {loss.item()}')\n",
        "\n",
        "print()\n",
        "\n",
        "# Gerando predições para uma senoide\n",
        "predicted_wave = []\n",
        "\n",
        "input_seq = y[:sequence_length].reshape(1, sequence_length, 1)\n",
        "input_seq = torch.tensor(input_seq, dtype=torch.float32)\n",
        "\n",
        "for _ in range(num_points - sequence_length):\n",
        "    predicted_next = rnn(input_seq)\n",
        "    predicted_wave.append(predicted_next.item())\n",
        "\n",
        "    # Arrasta a janela de entrada\n",
        "    predicted_next = predicted_next.view(1, 1, 1)  # Reshape para (1, 1, 1)\n",
        "    input_seq = torch.cat([input_seq[:, 1:, :], predicted_next], dim=1) # Remove o primeiro elemento e adiciona a predição\n",
        "\n",
        "# Plota a senoide original e a predição\n",
        "plt.scatter(x, y, label='Original')\n",
        "plt.scatter(x[sequence_length:], predicted_wave, label='Predito', linestyle='dashed')\n",
        "plt.legend()\n",
        "plt.show()"
      ],
      "metadata": {
        "id": "XL3KSja_zsc-",
        "colab": {
          "base_uri": "https://localhost:8080/",
          "height": 621
        },
        "outputId": "7d7efc79-b7b0-4f68-a7b2-68bbfc24da36"
      },
      "execution_count": 38,
      "outputs": [
        {
          "output_type": "stream",
          "name": "stdout",
          "text": [
            "Epoch 0, Loss: 0.5496838688850403\n",
            "Epoch 50, Loss: 0.13871631026268005\n",
            "Epoch 100, Loss: 0.08113245666027069\n",
            "Epoch 150, Loss: 0.06863800436258316\n",
            "Epoch 200, Loss: 0.0599602647125721\n",
            "Epoch 250, Loss: 0.04854237288236618\n",
            "Epoch 300, Loss: 0.05418022349476814\n",
            "Epoch 350, Loss: 0.05860581248998642\n",
            "Epoch 400, Loss: 0.041227277368307114\n",
            "Epoch 450, Loss: 0.03947344049811363\n",
            "\n"
          ]
        },
        {
          "output_type": "display_data",
          "data": {
            "text/plain": [
              "<Figure size 640x480 with 1 Axes>"
            ],
            "image/png": "[encoded data removed]"
          },
          "metadata": {}
        }
      ]
    }
  ],
  "metadata": {
    "kernelspec": {
      "display_name": "base",
      "language": "python",
      "name": "python3"
    },
    "language_info": {
      "codemirror_mode": {
        "name": "ipython",
        "version": 3
      },
      "file_extension": ".py",
      "mimetype": "text/x-python",
      "name": "python",
      "nbconvert_exporter": "python",
      "pygments_lexer": "ipython3",
      "version": "3.10.13"
    },
    "colab": {
      "provenance": [],
      "include_colab_link": true
    }
  },
  "nbformat": 4,
  "nbformat_minor": 0
}